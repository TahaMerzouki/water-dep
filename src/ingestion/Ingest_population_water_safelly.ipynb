{
 "cells": [
  {
   "cell_type": "markdown",
   "metadata": {
    "application/vnd.databricks.v1+cell": {
     "cellMetadata": {},
     "inputWidgets": {},
     "nuid": "d9e83f19-6802-4534-a2ac-dd3e2784b0ac",
     "showTitle": false,
     "title": ""
    }
   },
   "source": [
    "# Ingest population using water safelly overall"
   ]
  },
  {
   "cell_type": "code",
   "execution_count": 0,
   "metadata": {
    "application/vnd.databricks.v1+cell": {
     "cellMetadata": {
      "byteLimit": 2048000,
      "rowLimit": 10000
     },
     "inputWidgets": {},
     "nuid": "25fa1929-1f9e-4974-8e0c-cf0b180730bc",
     "showTitle": false,
     "title": ""
    }
   },
   "outputs": [
    {
     "output_type": "display_data",
     "data": {
      "text/html": [
       "<style scoped>\n",
       "  .table-result-container {\n",
       "    max-height: 300px;\n",
       "    overflow: auto;\n",
       "  }\n",
       "  table, th, td {\n",
       "    border: 1px solid black;\n",
       "    border-collapse: collapse;\n",
       "  }\n",
       "  th, td {\n",
       "    padding: 5px;\n",
       "  }\n",
       "  th {\n",
       "    text-align: left;\n",
       "  }\n",
       "</style><div class='table-result-container'><table class='table-result'><thead style='background-color: white'><tr><th>mountPoint</th><th>source</th><th>encryptionType</th></tr></thead><tbody><tr><td>/databricks-datasets</td><td>databricks-datasets</td><td></td></tr><tr><td>/Volumes</td><td>UnityCatalogVolumes</td><td></td></tr><tr><td>/mnt/waterprojectdl-raw</td><td>abfss://raw@waterprojectdl.dfs.core.windows.net/</td><td></td></tr><tr><td>/databricks/mlflow-tracking</td><td>databricks/mlflow-tracking</td><td></td></tr><tr><td>/databricks-results</td><td>databricks-results</td><td></td></tr><tr><td>/mnt/waterprojectdl/raw</td><td>abfss://raw@waterprojectdl.dfs.core.windows.net/</td><td></td></tr><tr><td>/databricks/mlflow-registry</td><td>databricks/mlflow-registry</td><td></td></tr><tr><td>/Volume</td><td>DbfsReserved</td><td></td></tr><tr><td>/volumes</td><td>DbfsReserved</td><td></td></tr><tr><td>/</td><td>DatabricksRoot</td><td></td></tr><tr><td>/volume</td><td>DbfsReserved</td><td></td></tr></tbody></table></div>"
      ]
     },
     "metadata": {
      "application/vnd.databricks.v1+output": {
       "addedWidgets": {},
       "aggData": [],
       "aggError": "",
       "aggOverflow": false,
       "aggSchema": [],
       "aggSeriesLimitReached": false,
       "aggType": "",
       "arguments": {},
       "columnCustomDisplayInfos": {},
       "data": [
        [
         "/databricks-datasets",
         "databricks-datasets",
         ""
        ],
        [
         "/Volumes",
         "UnityCatalogVolumes",
         ""
        ],
        [
         "/mnt/waterprojectdl-raw",
         "abfss://raw@waterprojectdl.dfs.core.windows.net/",
         ""
        ],
        [
         "/databricks/mlflow-tracking",
         "databricks/mlflow-tracking",
         ""
        ],
        [
         "/databricks-results",
         "databricks-results",
         ""
        ],
        [
         "/mnt/waterprojectdl/raw",
         "abfss://raw@waterprojectdl.dfs.core.windows.net/",
         ""
        ],
        [
         "/databricks/mlflow-registry",
         "databricks/mlflow-registry",
         ""
        ],
        [
         "/Volume",
         "DbfsReserved",
         ""
        ],
        [
         "/volumes",
         "DbfsReserved",
         ""
        ],
        [
         "/",
         "DatabricksRoot",
         ""
        ],
        [
         "/volume",
         "DbfsReserved",
         ""
        ]
       ],
       "datasetInfos": [],
       "dbfsResultPath": null,
       "isJsonSchema": true,
       "metadata": {},
       "overflow": false,
       "plotOptions": {
        "customPlotOptions": {},
        "displayType": "table",
        "pivotAggregation": null,
        "pivotColumns": null,
        "xColumns": null,
        "yColumns": null
       },
       "removedWidgets": [],
       "schema": [
        {
         "metadata": "{}",
         "name": "mountPoint",
         "type": "\"string\""
        },
        {
         "metadata": "{}",
         "name": "source",
         "type": "\"string\""
        },
        {
         "metadata": "{}",
         "name": "encryptionType",
         "type": "\"string\""
        }
       ],
       "type": "table"
      }
     },
     "output_type": "display_data"
    }
   ],
   "source": [
    "display(dbutils.fs.mounts())"
   ]
  },
  {
   "cell_type": "code",
   "execution_count": 0,
   "metadata": {
    "application/vnd.databricks.v1+cell": {
     "cellMetadata": {
      "byteLimit": 2048000,
      "rowLimit": 10000
     },
     "inputWidgets": {},
     "nuid": "6e619c34-8ed1-41a2-b524-a28f529da7c8",
     "showTitle": false,
     "title": ""
    }
   },
   "outputs": [
    {
     "output_type": "display_data",
     "data": {
      "text/html": [
       "<style scoped>\n",
       "  .table-result-container {\n",
       "    max-height: 300px;\n",
       "    overflow: auto;\n",
       "  }\n",
       "  table, th, td {\n",
       "    border: 1px solid black;\n",
       "    border-collapse: collapse;\n",
       "  }\n",
       "  th, td {\n",
       "    padding: 5px;\n",
       "  }\n",
       "  th {\n",
       "    text-align: left;\n",
       "  }\n",
       "</style><div class='table-result-container'><table class='table-result'><thead style='background-color: white'><tr><th>path</th><th>name</th><th>size</th><th>modificationTime</th></tr></thead><tbody><tr><td>dbfs:/mnt/waterprojectdl/raw/national_improved.csv</td><td>national_improved.csv</td><td>7464</td><td>1725728220000</td></tr><tr><td>dbfs:/mnt/waterprojectdl/raw/population_using_water_safely_overall.csv</td><td>population_using_water_safely_overall.csv</td><td>8729</td><td>1725723560000</td></tr><tr><td>dbfs:/mnt/waterprojectdl/raw/rural_improved.csv</td><td>rural_improved.csv</td><td>7390</td><td>1725728220000</td></tr><tr><td>dbfs:/mnt/waterprojectdl/raw/urban_imporved.csv</td><td>urban_imporved.csv</td><td>7394</td><td>1725728220000</td></tr></tbody></table></div>"
      ]
     },
     "metadata": {
      "application/vnd.databricks.v1+output": {
       "addedWidgets": {},
       "aggData": [],
       "aggError": "",
       "aggOverflow": false,
       "aggSchema": [],
       "aggSeriesLimitReached": false,
       "aggType": "",
       "arguments": {},
       "columnCustomDisplayInfos": {},
       "data": [
        [
         "dbfs:/mnt/waterprojectdl/raw/national_improved.csv",
         "national_improved.csv",
         7464,
         1725728220000
        ],
        [
         "dbfs:/mnt/waterprojectdl/raw/population_using_water_safely_overall.csv",
         "population_using_water_safely_overall.csv",
         8729,
         1725723560000
        ],
        [
         "dbfs:/mnt/waterprojectdl/raw/rural_improved.csv",
         "rural_improved.csv",
         7390,
         1725728220000
        ],
        [
         "dbfs:/mnt/waterprojectdl/raw/urban_imporved.csv",
         "urban_imporved.csv",
         7394,
         1725728220000
        ]
       ],
       "datasetInfos": [],
       "dbfsResultPath": null,
       "isJsonSchema": true,
       "metadata": {
        "isDbfsCommandResult": false
       },
       "overflow": false,
       "plotOptions": {
        "customPlotOptions": {},
        "displayType": "table",
        "pivotAggregation": null,
        "pivotColumns": null,
        "xColumns": null,
        "yColumns": null
       },
       "removedWidgets": [],
       "schema": [
        {
         "metadata": "{}",
         "name": "path",
         "type": "\"string\""
        },
        {
         "metadata": "{}",
         "name": "name",
         "type": "\"string\""
        },
        {
         "metadata": "{}",
         "name": "size",
         "type": "\"long\""
        },
        {
         "metadata": "{}",
         "name": "modificationTime",
         "type": "\"long\""
        }
       ],
       "type": "table"
      }
     },
     "output_type": "display_data"
    }
   ],
   "source": [
    "%fs \n",
    "ls /mnt/waterprojectdl/raw"
   ]
  },
  {
   "cell_type": "code",
   "execution_count": 0,
   "metadata": {
    "application/vnd.databricks.v1+cell": {
     "cellMetadata": {
      "byteLimit": 2048000,
      "rowLimit": 10000
     },
     "inputWidgets": {},
     "nuid": "3ac6fed3-ab32-4f7c-a4cf-8f22fc5712c9",
     "showTitle": false,
     "title": ""
    }
   },
   "outputs": [],
   "source": [
    "overall = spark.read.csv(\"dbfs:/mnt/waterprojectdl/raw/population_using_water_safely_overall.csv\", header=True)"
   ]
  },
  {
   "cell_type": "code",
   "execution_count": 0,
   "metadata": {
    "application/vnd.databricks.v1+cell": {
     "cellMetadata": {
      "byteLimit": 2048000,
      "rowLimit": 10000
     },
     "inputWidgets": {},
     "nuid": "06b54b4d-544b-40cb-9aec-2f860feb71f4",
     "showTitle": false,
     "title": ""
    }
   },
   "outputs": [
    {
     "output_type": "display_data",
     "data": {
      "text/html": [
       "<style scoped>\n",
       "  .table-result-container {\n",
       "    max-height: 300px;\n",
       "    overflow: auto;\n",
       "  }\n",
       "  table, th, td {\n",
       "    border: 1px solid black;\n",
       "    border-collapse: collapse;\n",
       "  }\n",
       "  th, td {\n",
       "    padding: 5px;\n",
       "  }\n",
       "  th {\n",
       "    text-align: left;\n",
       "  }\n",
       "</style><div class='table-result-container'><table class='table-result'><thead style='background-color: white'><tr><th>SDG</th><th>SDG target</th><th>SDG indicator</th><th>Indicator Code</th><th>Indicator name</th><th>Geographical area code</th><th>Geographical area name</th><th>Year</th><th>Value</th><th>Time detail</th><th>Source</th><th>Footnote</th><th>Type of data</th><th>Units</th><th>Age group</th><th>Bounds</th><th>Frequency</th><th>Level/Status</th><th>Location</th><th>Type of reporting</th><th>Sex</th><th>SDG 6 Data portal level</th></tr></thead><tbody><tr><td>null</td><td>null</td><td>6.1.1</td><td>null</td><td>Drinking water,Safely managed service</td><td>null</td><td>Morocco</td><td>2000</td><td>41.516566077849</td><td>null</td><td>WHO, UNICEF</td><td>null</td><td>null</td><td>null</td><td>null</td><td>null</td><td>null</td><td>null</td><td>National</td><td>null</td><td>null</td><td>6.1.1 Proportion of population using safely managed drinking water services > Safely managed service > Overall</td></tr><tr><td>null</td><td>null</td><td>6.1.1</td><td>null</td><td>Drinking water,Safely managed service</td><td>null</td><td>Morocco</td><td>2001</td><td>41.955470588583</td><td>null</td><td>WHO, UNICEF</td><td>null</td><td>null</td><td>null</td><td>null</td><td>null</td><td>null</td><td>null</td><td>National</td><td>null</td><td>null</td><td>6.1.1 Proportion of population using safely managed drinking water services > Safely managed service > Overall</td></tr><tr><td>null</td><td>null</td><td>6.1.1</td><td>null</td><td>Drinking water,Safely managed service</td><td>null</td><td>Morocco</td><td>2002</td><td>42.393078989123</td><td>null</td><td>WHO, UNICEF</td><td>null</td><td>null</td><td>null</td><td>null</td><td>null</td><td>null</td><td>null</td><td>National</td><td>null</td><td>null</td><td>6.1.1 Proportion of population using safely managed drinking water services > Safely managed service > Overall</td></tr><tr><td>null</td><td>null</td><td>6.1.1</td><td>null</td><td>Drinking water,Safely managed service</td><td>null</td><td>Morocco</td><td>2003</td><td>42.828273466588</td><td>null</td><td>WHO, UNICEF</td><td>null</td><td>null</td><td>null</td><td>null</td><td>null</td><td>null</td><td>null</td><td>National</td><td>null</td><td>null</td><td>6.1.1 Proportion of population using safely managed drinking water services > Safely managed service > Overall</td></tr><tr><td>null</td><td>null</td><td>6.1.1</td><td>null</td><td>Drinking water,Safely managed service</td><td>null</td><td>Morocco</td><td>2004</td><td>43.261617365472</td><td>null</td><td>WHO, UNICEF</td><td>null</td><td>null</td><td>null</td><td>null</td><td>null</td><td>null</td><td>null</td><td>National</td><td>null</td><td>null</td><td>6.1.1 Proportion of population using safely managed drinking water services > Safely managed service > Overall</td></tr><tr><td>null</td><td>null</td><td>6.1.1</td><td>null</td><td>Drinking water,Safely managed service</td><td>null</td><td>Morocco</td><td>2005</td><td>43.805396222483</td><td>null</td><td>WHO, UNICEF</td><td>null</td><td>null</td><td>null</td><td>null</td><td>null</td><td>null</td><td>null</td><td>National</td><td>null</td><td>null</td><td>6.1.1 Proportion of population using safely managed drinking water services > Safely managed service > Overall</td></tr><tr><td>null</td><td>null</td><td>6.1.1</td><td>null</td><td>Drinking water,Safely managed service</td><td>null</td><td>Morocco</td><td>2006</td><td>44.369282773552</td><td>null</td><td>WHO, UNICEF</td><td>null</td><td>null</td><td>null</td><td>null</td><td>null</td><td>null</td><td>null</td><td>National</td><td>null</td><td>null</td><td>6.1.1 Proportion of population using safely managed drinking water services > Safely managed service > Overall</td></tr><tr><td>null</td><td>null</td><td>6.1.1</td><td>null</td><td>Drinking water,Safely managed service</td><td>null</td><td>Morocco</td><td>2007</td><td>44.929388561225</td><td>null</td><td>WHO, UNICEF</td><td>null</td><td>null</td><td>null</td><td>null</td><td>null</td><td>null</td><td>null</td><td>National</td><td>null</td><td>null</td><td>6.1.1 Proportion of population using safely managed drinking water services > Safely managed service > Overall</td></tr><tr><td>null</td><td>null</td><td>6.1.1</td><td>null</td><td>Drinking water,Safely managed service</td><td>null</td><td>Morocco</td><td>2008</td><td>47.739590836905</td><td>null</td><td>WHO, UNICEF</td><td>null</td><td>null</td><td>null</td><td>null</td><td>null</td><td>null</td><td>null</td><td>National</td><td>null</td><td>null</td><td>6.1.1 Proportion of population using safely managed drinking water services > Safely managed service > Overall</td></tr><tr><td>null</td><td>null</td><td>6.1.1</td><td>null</td><td>Drinking water,Safely managed service</td><td>null</td><td>Morocco</td><td>2009</td><td>50.602361224205</td><td>null</td><td>WHO, UNICEF</td><td>null</td><td>null</td><td>null</td><td>null</td><td>null</td><td>null</td><td>null</td><td>National</td><td>null</td><td>null</td><td>6.1.1 Proportion of population using safely managed drinking water services > Safely managed service > Overall</td></tr><tr><td>null</td><td>null</td><td>6.1.1</td><td>null</td><td>Drinking water,Safely managed service</td><td>null</td><td>Morocco</td><td>2010</td><td>53.517670540543</td><td>null</td><td>WHO, UNICEF</td><td>null</td><td>null</td><td>null</td><td>null</td><td>null</td><td>null</td><td>null</td><td>National</td><td>null</td><td>null</td><td>6.1.1 Proportion of population using safely managed drinking water services > Safely managed service > Overall</td></tr><tr><td>null</td><td>null</td><td>6.1.1</td><td>null</td><td>Drinking water,Safely managed service</td><td>null</td><td>Morocco</td><td>2011</td><td>56.482194628205</td><td>null</td><td>WHO, UNICEF</td><td>null</td><td>null</td><td>null</td><td>null</td><td>null</td><td>null</td><td>null</td><td>National</td><td>null</td><td>null</td><td>6.1.1 Proportion of population using safely managed drinking water services > Safely managed service > Overall</td></tr><tr><td>null</td><td>null</td><td>6.1.1</td><td>null</td><td>Drinking water,Safely managed service</td><td>null</td><td>Morocco</td><td>2012</td><td>59.494821494984</td><td>null</td><td>WHO, UNICEF</td><td>null</td><td>null</td><td>null</td><td>null</td><td>null</td><td>null</td><td>null</td><td>National</td><td>null</td><td>null</td><td>6.1.1 Proportion of population using safely managed drinking water services > Safely managed service > Overall</td></tr><tr><td>null</td><td>null</td><td>6.1.1</td><td>null</td><td>Drinking water,Safely managed service</td><td>null</td><td>Morocco</td><td>2013</td><td>62.553364120718</td><td>null</td><td>WHO, UNICEF</td><td>null</td><td>null</td><td>null</td><td>null</td><td>null</td><td>null</td><td>null</td><td>National</td><td>null</td><td>null</td><td>6.1.1 Proportion of population using safely managed drinking water services > Safely managed service > Overall</td></tr><tr><td>null</td><td>null</td><td>6.1.1</td><td>null</td><td>Drinking water,Safely managed service</td><td>null</td><td>Morocco</td><td>2014</td><td>65.656741096359</td><td>null</td><td>WHO, UNICEF</td><td>null</td><td>null</td><td>null</td><td>null</td><td>null</td><td>null</td><td>null</td><td>National</td><td>null</td><td>null</td><td>6.1.1 Proportion of population using safely managed drinking water services > Safely managed service > Overall</td></tr><tr><td>null</td><td>null</td><td>6.1.1</td><td>null</td><td>Drinking water,Safely managed service</td><td>null</td><td>Morocco</td><td>2015</td><td>68.282912929084</td><td>null</td><td>WHO, UNICEF</td><td>null</td><td>null</td><td>null</td><td>null</td><td>null</td><td>null</td><td>null</td><td>National</td><td>null</td><td>null</td><td>6.1.1 Proportion of population using safely managed drinking water services > Safely managed service > Overall</td></tr><tr><td>null</td><td>null</td><td>6.1.1</td><td>null</td><td>Drinking water,Safely managed service</td><td>null</td><td>Morocco</td><td>2016</td><td>69.901090364033</td><td>null</td><td>WHO, UNICEF</td><td>null</td><td>null</td><td>null</td><td>null</td><td>null</td><td>null</td><td>null</td><td>National</td><td>null</td><td>null</td><td>6.1.1 Proportion of population using safely managed drinking water services > Safely managed service > Overall</td></tr><tr><td>null</td><td>null</td><td>6.1.1</td><td>null</td><td>Drinking water,Safely managed service</td><td>null</td><td>Morocco</td><td>2017</td><td>71.525318695161</td><td>null</td><td>WHO, UNICEF</td><td>null</td><td>null</td><td>null</td><td>null</td><td>null</td><td>null</td><td>null</td><td>National</td><td>null</td><td>null</td><td>6.1.1 Proportion of population using safely managed drinking water services > Safely managed service > Overall</td></tr><tr><td>null</td><td>null</td><td>6.1.1</td><td>null</td><td>Drinking water,Safely managed service</td><td>null</td><td>Morocco</td><td>2018</td><td>73.154123251186</td><td>null</td><td>WHO, UNICEF</td><td>null</td><td>null</td><td>null</td><td>null</td><td>null</td><td>null</td><td>null</td><td>National</td><td>null</td><td>null</td><td>6.1.1 Proportion of population using safely managed drinking water services > Safely managed service > Overall</td></tr><tr><td>null</td><td>null</td><td>6.1.1</td><td>null</td><td>Drinking water,Safely managed service</td><td>null</td><td>Morocco</td><td>2019</td><td>73.584075809309</td><td>null</td><td>WHO, UNICEF</td><td>null</td><td>null</td><td>null</td><td>null</td><td>null</td><td>null</td><td>null</td><td>National</td><td>null</td><td>null</td><td>6.1.1 Proportion of population using safely managed drinking water services > Safely managed service > Overall</td></tr><tr><td>null</td><td>null</td><td>6.1.1</td><td>null</td><td>Drinking water,Safely managed service</td><td>null</td><td>Morocco</td><td>2020</td><td>73.912180206692</td><td>null</td><td>WHO, UNICEF</td><td>null</td><td>null</td><td>null</td><td>null</td><td>null</td><td>null</td><td>null</td><td>National</td><td>null</td><td>null</td><td>6.1.1 Proportion of population using safely managed drinking water services > Safely managed service > Overall</td></tr><tr><td>null</td><td>null</td><td>6.1.1</td><td>null</td><td>Drinking water,Safely managed service</td><td>null</td><td>Morocco</td><td>2021</td><td>74.592712960263</td><td>null</td><td>WHO, UNICEF</td><td>null</td><td>null</td><td>null</td><td>null</td><td>null</td><td>null</td><td>null</td><td>National</td><td>null</td><td>null</td><td>6.1.1 Proportion of population using safely managed drinking water services > Safely managed service > Overall</td></tr><tr><td>null</td><td>null</td><td>6.1.1</td><td>null</td><td>Drinking water,Safely managed service</td><td>null</td><td>Morocco</td><td>2022</td><td>74.82419935286</td><td>null</td><td>WHO, UNICEF</td><td>null</td><td>null</td><td>null</td><td>null</td><td>null</td><td>null</td><td>null</td><td>National</td><td>null</td><td>null</td><td>6.1.1 Proportion of population using safely managed drinking water services > Safely managed service > Overall</td></tr><tr><td>null</td><td>null</td><td>null</td><td>null</td><td>null</td><td>null</td><td>null</td><td>null</td><td>null</td><td>null</td><td>null</td><td>null</td><td>null</td><td>null</td><td>null</td><td>null</td><td>null</td><td>null</td><td>null</td><td>null</td><td>null</td><td>null</td></tr><tr><td>null</td><td>null</td><td>null</td><td>null</td><td>null</td><td>null</td><td>null</td><td>null</td><td>null</td><td>null</td><td>null</td><td>null</td><td>null</td><td>null</td><td>null</td><td>null</td><td>null</td><td>null</td><td>null</td><td>null</td><td>null</td><td>null</td></tr><tr><td>null</td><td>null</td><td>null</td><td>null</td><td>null</td><td>null</td><td>null</td><td>null</td><td>null</td><td>null</td><td>null</td><td>null</td><td>null</td><td>null</td><td>null</td><td>null</td><td>null</td><td>null</td><td>null</td><td>null</td><td>null</td><td>null</td></tr><tr><td>null</td><td>null</td><td>null</td><td>null</td><td>null</td><td>null</td><td>null</td><td>null</td><td>null</td><td>null</td><td>null</td><td>null</td><td>null</td><td>null</td><td>null</td><td>null</td><td>null</td><td>null</td><td>null</td><td>null</td><td>null</td><td>null</td></tr><tr><td>null</td><td>null</td><td>null</td><td>null</td><td>null</td><td>null</td><td>null</td><td>null</td><td>null</td><td>null</td><td>null</td><td>null</td><td>null</td><td>null</td><td>null</td><td>null</td><td>null</td><td>null</td><td>null</td><td>null</td><td>null</td><td>null</td></tr><tr><td>null</td><td>null</td><td>null</td><td>null</td><td>null</td><td>null</td><td>null</td><td>null</td><td>null</td><td>null</td><td>null</td><td>null</td><td>null</td><td>null</td><td>null</td><td>null</td><td>null</td><td>null</td><td>null</td><td>null</td><td>null</td><td>null</td></tr><tr><td>null</td><td>null</td><td>null</td><td>null</td><td>null</td><td>null</td><td>null</td><td>null</td><td>null</td><td>null</td><td>null</td><td>null</td><td>null</td><td>null</td><td>null</td><td>null</td><td>null</td><td>null</td><td>null</td><td>null</td><td>null</td><td>null</td></tr><tr><td>null</td><td>null</td><td>null</td><td>null</td><td>null</td><td>null</td><td>null</td><td>null</td><td>null</td><td>null</td><td>null</td><td>null</td><td>null</td><td>null</td><td>null</td><td>null</td><td>null</td><td>null</td><td>null</td><td>null</td><td>null</td><td>null</td></tr><tr><td>null</td><td>null</td><td>null</td><td>null</td><td>null</td><td>null</td><td>null</td><td>null</td><td>null</td><td>null</td><td>null</td><td>null</td><td>null</td><td>null</td><td>null</td><td>null</td><td>null</td><td>null</td><td>null</td><td>null</td><td>null</td><td>null</td></tr><tr><td>null</td><td>null</td><td>null</td><td>null</td><td>null</td><td>null</td><td>null</td><td>null</td><td>null</td><td>null</td><td>null</td><td>null</td><td>null</td><td>null</td><td>null</td><td>null</td><td>null</td><td>null</td><td>null</td><td>null</td><td>null</td><td>null</td></tr><tr><td>null</td><td>null</td><td>null</td><td>null</td><td>null</td><td>null</td><td>null</td><td>null</td><td>null</td><td>null</td><td>null</td><td>null</td><td>null</td><td>null</td><td>null</td><td>null</td><td>null</td><td>null</td><td>null</td><td>null</td><td>null</td><td>null</td></tr><tr><td>null</td><td>null</td><td>null</td><td>null</td><td>null</td><td>null</td><td>null</td><td>null</td><td>null</td><td>null</td><td>null</td><td>null</td><td>null</td><td>null</td><td>null</td><td>null</td><td>null</td><td>null</td><td>null</td><td>null</td><td>null</td><td>null</td></tr><tr><td>null</td><td>null</td><td>null</td><td>null</td><td>null</td><td>null</td><td>null</td><td>null</td><td>null</td><td>null</td><td>null</td><td>null</td><td>null</td><td>null</td><td>null</td><td>null</td><td>null</td><td>null</td><td>null</td><td>null</td><td>null</td><td>null</td></tr><tr><td>null</td><td>null</td><td>null</td><td>null</td><td>null</td><td>null</td><td>null</td><td>null</td><td>null</td><td>null</td><td>null</td><td>null</td><td>null</td><td>null</td><td>null</td><td>null</td><td>null</td><td>null</td><td>null</td><td>null</td><td>null</td><td>null</td></tr><tr><td>null</td><td>null</td><td>null</td><td>null</td><td>null</td><td>null</td><td>null</td><td>null</td><td>null</td><td>null</td><td>null</td><td>null</td><td>null</td><td>null</td><td>null</td><td>null</td><td>null</td><td>null</td><td>null</td><td>null</td><td>null</td><td>null</td></tr><tr><td>null</td><td>null</td><td>null</td><td>null</td><td>null</td><td>null</td><td>null</td><td>null</td><td>null</td><td>null</td><td>null</td><td>null</td><td>null</td><td>null</td><td>null</td><td>null</td><td>null</td><td>null</td><td>null</td><td>null</td><td>null</td><td>null</td></tr><tr><td>null</td><td>null</td><td>null</td><td>null</td><td>null</td><td>null</td><td>null</td><td>null</td><td>null</td><td>null</td><td>null</td><td>null</td><td>null</td><td>null</td><td>null</td><td>null</td><td>null</td><td>null</td><td>null</td><td>null</td><td>null</td><td>null</td></tr><tr><td>null</td><td>null</td><td>null</td><td>null</td><td>null</td><td>null</td><td>null</td><td>null</td><td>null</td><td>null</td><td>null</td><td>null</td><td>null</td><td>null</td><td>null</td><td>null</td><td>null</td><td>null</td><td>null</td><td>null</td><td>null</td><td>null</td></tr><tr><td>null</td><td>null</td><td>null</td><td>null</td><td>null</td><td>null</td><td>null</td><td>null</td><td>null</td><td>null</td><td>null</td><td>null</td><td>null</td><td>null</td><td>null</td><td>null</td><td>null</td><td>null</td><td>null</td><td>null</td><td>null</td><td>null</td></tr><tr><td>null</td><td>null</td><td>null</td><td>null</td><td>null</td><td>null</td><td>null</td><td>null</td><td>null</td><td>null</td><td>null</td><td>null</td><td>null</td><td>null</td><td>null</td><td>null</td><td>null</td><td>null</td><td>null</td><td>null</td><td>null</td><td>null</td></tr><tr><td>null</td><td>null</td><td>null</td><td>null</td><td>null</td><td>null</td><td>null</td><td>null</td><td>null</td><td>null</td><td>null</td><td>null</td><td>null</td><td>null</td><td>null</td><td>null</td><td>null</td><td>null</td><td>null</td><td>null</td><td>null</td><td>null</td></tr><tr><td>null</td><td>null</td><td>null</td><td>null</td><td>null</td><td>null</td><td>null</td><td>null</td><td>null</td><td>null</td><td>null</td><td>null</td><td>null</td><td>null</td><td>null</td><td>null</td><td>null</td><td>null</td><td>null</td><td>null</td><td>null</td><td>null</td></tr><tr><td>null</td><td>null</td><td>null</td><td>null</td><td>null</td><td>null</td><td>null</td><td>null</td><td>null</td><td>null</td><td>null</td><td>null</td><td>null</td><td>null</td><td>null</td><td>null</td><td>null</td><td>null</td><td>null</td><td>null</td><td>null</td><td>null</td></tr><tr><td>null</td><td>null</td><td>null</td><td>null</td><td>null</td><td>null</td><td>null</td><td>null</td><td>null</td><td>null</td><td>null</td><td>null</td><td>null</td><td>null</td><td>null</td><td>null</td><td>null</td><td>null</td><td>null</td><td>null</td><td>null</td><td>null</td></tr><tr><td>null</td><td>null</td><td>null</td><td>null</td><td>null</td><td>null</td><td>null</td><td>null</td><td>null</td><td>null</td><td>null</td><td>null</td><td>null</td><td>null</td><td>null</td><td>null</td><td>null</td><td>null</td><td>null</td><td>null</td><td>null</td><td>null</td></tr><tr><td>null</td><td>null</td><td>null</td><td>null</td><td>null</td><td>null</td><td>null</td><td>null</td><td>null</td><td>null</td><td>null</td><td>null</td><td>null</td><td>null</td><td>null</td><td>null</td><td>null</td><td>null</td><td>null</td><td>null</td><td>null</td><td>null</td></tr><tr><td>null</td><td>null</td><td>null</td><td>null</td><td>null</td><td>null</td><td>null</td><td>null</td><td>null</td><td>null</td><td>null</td><td>null</td><td>null</td><td>null</td><td>null</td><td>null</td><td>null</td><td>null</td><td>null</td><td>null</td><td>null</td><td>null</td></tr><tr><td>null</td><td>null</td><td>null</td><td>null</td><td>null</td><td>null</td><td>null</td><td>null</td><td>null</td><td>null</td><td>null</td><td>null</td><td>null</td><td>null</td><td>null</td><td>null</td><td>null</td><td>null</td><td>null</td><td>null</td><td>null</td><td>null</td></tr><tr><td>null</td><td>null</td><td>null</td><td>null</td><td>null</td><td>null</td><td>null</td><td>null</td><td>null</td><td>null</td><td>null</td><td>null</td><td>null</td><td>null</td><td>null</td><td>null</td><td>null</td><td>null</td><td>null</td><td>null</td><td>null</td><td>null</td></tr><tr><td>null</td><td>null</td><td>null</td><td>null</td><td>null</td><td>null</td><td>null</td><td>null</td><td>null</td><td>null</td><td>null</td><td>null</td><td>null</td><td>null</td><td>null</td><td>null</td><td>null</td><td>null</td><td>null</td><td>null</td><td>null</td><td>null</td></tr><tr><td>null</td><td>null</td><td>null</td><td>null</td><td>null</td><td>null</td><td>null</td><td>null</td><td>null</td><td>null</td><td>null</td><td>null</td><td>null</td><td>null</td><td>null</td><td>null</td><td>null</td><td>null</td><td>null</td><td>null</td><td>null</td><td>null</td></tr><tr><td>null</td><td>null</td><td>null</td><td>null</td><td>null</td><td>null</td><td>null</td><td>null</td><td>null</td><td>null</td><td>null</td><td>null</td><td>null</td><td>null</td><td>null</td><td>null</td><td>null</td><td>null</td><td>null</td><td>null</td><td>null</td><td>null</td></tr><tr><td>null</td><td>null</td><td>null</td><td>null</td><td>null</td><td>null</td><td>null</td><td>null</td><td>null</td><td>null</td><td>null</td><td>null</td><td>null</td><td>null</td><td>null</td><td>null</td><td>null</td><td>null</td><td>null</td><td>null</td><td>null</td><td>null</td></tr><tr><td>null</td><td>null</td><td>null</td><td>null</td><td>null</td><td>null</td><td>null</td><td>null</td><td>null</td><td>null</td><td>null</td><td>null</td><td>null</td><td>null</td><td>null</td><td>null</td><td>null</td><td>null</td><td>null</td><td>null</td><td>null</td><td>null</td></tr><tr><td>null</td><td>null</td><td>null</td><td>null</td><td>null</td><td>null</td><td>null</td><td>null</td><td>null</td><td>null</td><td>null</td><td>null</td><td>null</td><td>null</td><td>null</td><td>null</td><td>null</td><td>null</td><td>null</td><td>null</td><td>null</td><td>null</td></tr><tr><td>null</td><td>null</td><td>null</td><td>null</td><td>null</td><td>null</td><td>null</td><td>null</td><td>null</td><td>null</td><td>null</td><td>null</td><td>null</td><td>null</td><td>null</td><td>null</td><td>null</td><td>null</td><td>null</td><td>null</td><td>null</td><td>null</td></tr></tbody></table></div>"
      ]
     },
     "metadata": {
      "application/vnd.databricks.v1+output": {
       "addedWidgets": {},
       "aggData": [],
       "aggError": "",
       "aggOverflow": false,
       "aggSchema": [],
       "aggSeriesLimitReached": false,
       "aggType": "",
       "arguments": {},
       "columnCustomDisplayInfos": {},
       "data": [
        [
         null,
         null,
         "6.1.1",
         null,
         "Drinking water,Safely managed service",
         null,
         "Morocco",
         "2000",
         "41.516566077849",
         null,
         "WHO, UNICEF",
         null,
         null,
         null,
         null,
         null,
         null,
         null,
         "National",
         null,
         null,
         "6.1.1 Proportion of population using safely managed drinking water services > Safely managed service > Overall"
        ],
        [
         null,
         null,
         "6.1.1",
         null,
         "Drinking water,Safely managed service",
         null,
         "Morocco",
         "2001",
         "41.955470588583",
         null,
         "WHO, UNICEF",
         null,
         null,
         null,
         null,
         null,
         null,
         null,
         "National",
         null,
         null,
         "6.1.1 Proportion of population using safely managed drinking water services > Safely managed service > Overall"
        ],
        [
         null,
         null,
         "6.1.1",
         null,
         "Drinking water,Safely managed service",
         null,
         "Morocco",
         "2002",
         "42.393078989123",
         null,
         "WHO, UNICEF",
         null,
         null,
         null,
         null,
         null,
         null,
         null,
         "National",
         null,
         null,
         "6.1.1 Proportion of population using safely managed drinking water services > Safely managed service > Overall"
        ],
        [
         null,
         null,
         "6.1.1",
         null,
         "Drinking water,Safely managed service",
         null,
         "Morocco",
         "2003",
         "42.828273466588",
         null,
         "WHO, UNICEF",
         null,
         null,
         null,
         null,
         null,
         null,
         null,
         "National",
         null,
         null,
         "6.1.1 Proportion of population using safely managed drinking water services > Safely managed service > Overall"
        ],
        [
         null,
         null,
         "6.1.1",
         null,
         "Drinking water,Safely managed service",
         null,
         "Morocco",
         "2004",
         "43.261617365472",
         null,
         "WHO, UNICEF",
         null,
         null,
         null,
         null,
         null,
         null,
         null,
         "National",
         null,
         null,
         "6.1.1 Proportion of population using safely managed drinking water services > Safely managed service > Overall"
        ],
        [
         null,
         null,
         "6.1.1",
         null,
         "Drinking water,Safely managed service",
         null,
         "Morocco",
         "2005",
         "43.805396222483",
         null,
         "WHO, UNICEF",
         null,
         null,
         null,
         null,
         null,
         null,
         null,
         "National",
         null,
         null,
         "6.1.1 Proportion of population using safely managed drinking water services > Safely managed service > Overall"
        ],
        [
         null,
         null,
         "6.1.1",
         null,
         "Drinking water,Safely managed service",
         null,
         "Morocco",
         "2006",
         "44.369282773552",
         null,
         "WHO, UNICEF",
         null,
         null,
         null,
         null,
         null,
         null,
         null,
         "National",
         null,
         null,
         "6.1.1 Proportion of population using safely managed drinking water services > Safely managed service > Overall"
        ],
        [
         null,
         null,
         "6.1.1",
         null,
         "Drinking water,Safely managed service",
         null,
         "Morocco",
         "2007",
         "44.929388561225",
         null,
         "WHO, UNICEF",
         null,
         null,
         null,
         null,
         null,
         null,
         null,
         "National",
         null,
         null,
         "6.1.1 Proportion of population using safely managed drinking water services > Safely managed service > Overall"
        ],
        [
         null,
         null,
         "6.1.1",
         null,
         "Drinking water,Safely managed service",
         null,
         "Morocco",
         "2008",
         "47.739590836905",
         null,
         "WHO, UNICEF",
         null,
         null,
         null,
         null,
         null,
         null,
         null,
         "National",
         null,
         null,
         "6.1.1 Proportion of population using safely managed drinking water services > Safely managed service > Overall"
        ],
        [
         null,
         null,
         "6.1.1",
         null,
         "Drinking water,Safely managed service",
         null,
         "Morocco",
         "2009",
         "50.602361224205",
         null,
         "WHO, UNICEF",
         null,
         null,
         null,
         null,
         null,
         null,
         null,
         "National",
         null,
         null,
         "6.1.1 Proportion of population using safely managed drinking water services > Safely managed service > Overall"
        ],
        [
         null,
         null,
         "6.1.1",
         null,
         "Drinking water,Safely managed service",
         null,
         "Morocco",
         "2010",
         "53.517670540543",
         null,
         "WHO, UNICEF",
         null,
         null,
         null,
         null,
         null,
         null,
         null,
         "National",
         null,
         null,
         "6.1.1 Proportion of population using safely managed drinking water services > Safely managed service > Overall"
        ],
        [
         null,
         null,
         "6.1.1",
         null,
         "Drinking water,Safely managed service",
         null,
         "Morocco",
         "2011",
         "56.482194628205",
         null,
         "WHO, UNICEF",
         null,
         null,
         null,
         null,
         null,
         null,
         null,
         "National",
         null,
         null,
         "6.1.1 Proportion of population using safely managed drinking water services > Safely managed service > Overall"
        ],
        [
         null,
         null,
         "6.1.1",
         null,
         "Drinking water,Safely managed service",
         null,
         "Morocco",
         "2012",
         "59.494821494984",
         null,
         "WHO, UNICEF",
         null,
         null,
         null,
         null,
         null,
         null,
         null,
         "National",
         null,
         null,
         "6.1.1 Proportion of population using safely managed drinking water services > Safely managed service > Overall"
        ],
        [
         null,
         null,
         "6.1.1",
         null,
         "Drinking water,Safely managed service",
         null,
         "Morocco",
         "2013",
         "62.553364120718",
         null,
         "WHO, UNICEF",
         null,
         null,
         null,
         null,
         null,
         null,
         null,
         "National",
         null,
         null,
         "6.1.1 Proportion of population using safely managed drinking water services > Safely managed service > Overall"
        ],
        [
         null,
         null,
         "6.1.1",
         null,
         "Drinking water,Safely managed service",
         null,
         "Morocco",
         "2014",
         "65.656741096359",
         null,
         "WHO, UNICEF",
         null,
         null,
         null,
         null,
         null,
         null,
         null,
         "National",
         null,
         null,
         "6.1.1 Proportion of population using safely managed drinking water services > Safely managed service > Overall"
        ],
        [
         null,
         null,
         "6.1.1",
         null,
         "Drinking water,Safely managed service",
         null,
         "Morocco",
         "2015",
         "68.282912929084",
         null,
         "WHO, UNICEF",
         null,
         null,
         null,
         null,
         null,
         null,
         null,
         "National",
         null,
         null,
         "6.1.1 Proportion of population using safely managed drinking water services > Safely managed service > Overall"
        ],
        [
         null,
         null,
         "6.1.1",
         null,
         "Drinking water,Safely managed service",
         null,
         "Morocco",
         "2016",
         "69.901090364033",
         null,
         "WHO, UNICEF",
         null,
         null,
         null,
         null,
         null,
         null,
         null,
         "National",
         null,
         null,
         "6.1.1 Proportion of population using safely managed drinking water services > Safely managed service > Overall"
        ],
        [
         null,
         null,
         "6.1.1",
         null,
         "Drinking water,Safely managed service",
         null,
         "Morocco",
         "2017",
         "71.525318695161",
         null,
         "WHO, UNICEF",
         null,
         null,
         null,
         null,
         null,
         null,
         null,
         "National",
         null,
         null,
         "6.1.1 Proportion of population using safely managed drinking water services > Safely managed service > Overall"
        ],
        [
         null,
         null,
         "6.1.1",
         null,
         "Drinking water,Safely managed service",
         null,
         "Morocco",
         "2018",
         "73.154123251186",
         null,
         "WHO, UNICEF",
         null,
         null,
         null,
         null,
         null,
         null,
         null,
         "National",
         null,
         null,
         "6.1.1 Proportion of population using safely managed drinking water services > Safely managed service > Overall"
        ],
        [
         null,
         null,
         "6.1.1",
         null,
         "Drinking water,Safely managed service",
         null,
         "Morocco",
         "2019",
         "73.584075809309",
         null,
         "WHO, UNICEF",
         null,
         null,
         null,
         null,
         null,
         null,
         null,
         "National",
         null,
         null,
         "6.1.1 Proportion of population using safely managed drinking water services > Safely managed service > Overall"
        ],
        [
         null,
         null,
         "6.1.1",
         null,
         "Drinking water,Safely managed service",
         null,
         "Morocco",
         "2020",
         "73.912180206692",
         null,
         "WHO, UNICEF",
         null,
         null,
         null,
         null,
         null,
         null,
         null,
         "National",
         null,
         null,
         "6.1.1 Proportion of population using safely managed drinking water services > Safely managed service > Overall"
        ],
        [
         null,
         null,
         "6.1.1",
         null,
         "Drinking water,Safely managed service",
         null,
         "Morocco",
         "2021",
         "74.592712960263",
         null,
         "WHO, UNICEF",
         null,
         null,
         null,
         null,
         null,
         null,
         null,
         "National",
         null,
         null,
         "6.1.1 Proportion of population using safely managed drinking water services > Safely managed service > Overall"
        ],
        [
         null,
         null,
         "6.1.1",
         null,
         "Drinking water,Safely managed service",
         null,
         "Morocco",
         "2022",
         "74.82419935286",
         null,
         "WHO, UNICEF",
         null,
         null,
         null,
         null,
         null,
         null,
         null,
         "National",
         null,
         null,
         "6.1.1 Proportion of population using safely managed drinking water services > Safely managed service > Overall"
        ],
        [
         null,
         null,
         null,
         null,
         null,
         null,
         null,
         null,
         null,
         null,
         null,
         null,
         null,
         null,
         null,
         null,
         null,
         null,
         null,
         null,
         null,
         null
        ],
        [
         null,
         null,
         null,
         null,
         null,
         null,
         null,
         null,
         null,
         null,
         null,
         null,
         null,
         null,
         null,
         null,
         null,
         null,
         null,
         null,
         null,
         null
        ],
        [
         null,
         null,
         null,
         null,
         null,
         null,
         null,
         null,
         null,
         null,
         null,
         null,
         null,
         null,
         null,
         null,
         null,
         null,
         null,
         null,
         null,
         null
        ],
        [
         null,
         null,
         null,
         null,
         null,
         null,
         null,
         null,
         null,
         null,
         null,
         null,
         null,
         null,
         null,
         null,
         null,
         null,
         null,
         null,
         null,
         null
        ],
        [
         null,
         null,
         null,
         null,
         null,
         null,
         null,
         null,
         null,
         null,
         null,
         null,
         null,
         null,
         null,
         null,
         null,
         null,
         null,
         null,
         null,
         null
        ],
        [
         null,
         null,
         null,
         null,
         null,
         null,
         null,
         null,
         null,
         null,
         null,
         null,
         null,
         null,
         null,
         null,
         null,
         null,
         null,
         null,
         null,
         null
        ],
        [
         null,
         null,
         null,
         null,
         null,
         null,
         null,
         null,
         null,
         null,
         null,
         null,
         null,
         null,
         null,
         null,
         null,
         null,
         null,
         null,
         null,
         null
        ],
        [
         null,
         null,
         null,
         null,
         null,
         null,
         null,
         null,
         null,
         null,
         null,
         null,
         null,
         null,
         null,
         null,
         null,
         null,
         null,
         null,
         null,
         null
        ],
        [
         null,
         null,
         null,
         null,
         null,
         null,
         null,
         null,
         null,
         null,
         null,
         null,
         null,
         null,
         null,
         null,
         null,
         null,
         null,
         null,
         null,
         null
        ],
        [
         null,
         null,
         null,
         null,
         null,
         null,
         null,
         null,
         null,
         null,
         null,
         null,
         null,
         null,
         null,
         null,
         null,
         null,
         null,
         null,
         null,
         null
        ],
        [
         null,
         null,
         null,
         null,
         null,
         null,
         null,
         null,
         null,
         null,
         null,
         null,
         null,
         null,
         null,
         null,
         null,
         null,
         null,
         null,
         null,
         null
        ],
        [
         null,
         null,
         null,
         null,
         null,
         null,
         null,
         null,
         null,
         null,
         null,
         null,
         null,
         null,
         null,
         null,
         null,
         null,
         null,
         null,
         null,
         null
        ],
        [
         null,
         null,
         null,
         null,
         null,
         null,
         null,
         null,
         null,
         null,
         null,
         null,
         null,
         null,
         null,
         null,
         null,
         null,
         null,
         null,
         null,
         null
        ],
        [
         null,
         null,
         null,
         null,
         null,
         null,
         null,
         null,
         null,
         null,
         null,
         null,
         null,
         null,
         null,
         null,
         null,
         null,
         null,
         null,
         null,
         null
        ],
        [
         null,
         null,
         null,
         null,
         null,
         null,
         null,
         null,
         null,
         null,
         null,
         null,
         null,
         null,
         null,
         null,
         null,
         null,
         null,
         null,
         null,
         null
        ],
        [
         null,
         null,
         null,
         null,
         null,
         null,
         null,
         null,
         null,
         null,
         null,
         null,
         null,
         null,
         null,
         null,
         null,
         null,
         null,
         null,
         null,
         null
        ],
        [
         null,
         null,
         null,
         null,
         null,
         null,
         null,
         null,
         null,
         null,
         null,
         null,
         null,
         null,
         null,
         null,
         null,
         null,
         null,
         null,
         null,
         null
        ],
        [
         null,
         null,
         null,
         null,
         null,
         null,
         null,
         null,
         null,
         null,
         null,
         null,
         null,
         null,
         null,
         null,
         null,
         null,
         null,
         null,
         null,
         null
        ],
        [
         null,
         null,
         null,
         null,
         null,
         null,
         null,
         null,
         null,
         null,
         null,
         null,
         null,
         null,
         null,
         null,
         null,
         null,
         null,
         null,
         null,
         null
        ],
        [
         null,
         null,
         null,
         null,
         null,
         null,
         null,
         null,
         null,
         null,
         null,
         null,
         null,
         null,
         null,
         null,
         null,
         null,
         null,
         null,
         null,
         null
        ],
        [
         null,
         null,
         null,
         null,
         null,
         null,
         null,
         null,
         null,
         null,
         null,
         null,
         null,
         null,
         null,
         null,
         null,
         null,
         null,
         null,
         null,
         null
        ],
        [
         null,
         null,
         null,
         null,
         null,
         null,
         null,
         null,
         null,
         null,
         null,
         null,
         null,
         null,
         null,
         null,
         null,
         null,
         null,
         null,
         null,
         null
        ],
        [
         null,
         null,
         null,
         null,
         null,
         null,
         null,
         null,
         null,
         null,
         null,
         null,
         null,
         null,
         null,
         null,
         null,
         null,
         null,
         null,
         null,
         null
        ],
        [
         null,
         null,
         null,
         null,
         null,
         null,
         null,
         null,
         null,
         null,
         null,
         null,
         null,
         null,
         null,
         null,
         null,
         null,
         null,
         null,
         null,
         null
        ],
        [
         null,
         null,
         null,
         null,
         null,
         null,
         null,
         null,
         null,
         null,
         null,
         null,
         null,
         null,
         null,
         null,
         null,
         null,
         null,
         null,
         null,
         null
        ],
        [
         null,
         null,
         null,
         null,
         null,
         null,
         null,
         null,
         null,
         null,
         null,
         null,
         null,
         null,
         null,
         null,
         null,
         null,
         null,
         null,
         null,
         null
        ],
        [
         null,
         null,
         null,
         null,
         null,
         null,
         null,
         null,
         null,
         null,
         null,
         null,
         null,
         null,
         null,
         null,
         null,
         null,
         null,
         null,
         null,
         null
        ],
        [
         null,
         null,
         null,
         null,
         null,
         null,
         null,
         null,
         null,
         null,
         null,
         null,
         null,
         null,
         null,
         null,
         null,
         null,
         null,
         null,
         null,
         null
        ],
        [
         null,
         null,
         null,
         null,
         null,
         null,
         null,
         null,
         null,
         null,
         null,
         null,
         null,
         null,
         null,
         null,
         null,
         null,
         null,
         null,
         null,
         null
        ],
        [
         null,
         null,
         null,
         null,
         null,
         null,
         null,
         null,
         null,
         null,
         null,
         null,
         null,
         null,
         null,
         null,
         null,
         null,
         null,
         null,
         null,
         null
        ],
        [
         null,
         null,
         null,
         null,
         null,
         null,
         null,
         null,
         null,
         null,
         null,
         null,
         null,
         null,
         null,
         null,
         null,
         null,
         null,
         null,
         null,
         null
        ],
        [
         null,
         null,
         null,
         null,
         null,
         null,
         null,
         null,
         null,
         null,
         null,
         null,
         null,
         null,
         null,
         null,
         null,
         null,
         null,
         null,
         null,
         null
        ],
        [
         null,
         null,
         null,
         null,
         null,
         null,
         null,
         null,
         null,
         null,
         null,
         null,
         null,
         null,
         null,
         null,
         null,
         null,
         null,
         null,
         null,
         null
        ],
        [
         null,
         null,
         null,
         null,
         null,
         null,
         null,
         null,
         null,
         null,
         null,
         null,
         null,
         null,
         null,
         null,
         null,
         null,
         null,
         null,
         null,
         null
        ],
        [
         null,
         null,
         null,
         null,
         null,
         null,
         null,
         null,
         null,
         null,
         null,
         null,
         null,
         null,
         null,
         null,
         null,
         null,
         null,
         null,
         null,
         null
        ],
        [
         null,
         null,
         null,
         null,
         null,
         null,
         null,
         null,
         null,
         null,
         null,
         null,
         null,
         null,
         null,
         null,
         null,
         null,
         null,
         null,
         null,
         null
        ]
       ],
       "datasetInfos": [],
       "dbfsResultPath": null,
       "isJsonSchema": true,
       "metadata": {},
       "overflow": false,
       "plotOptions": {
        "customPlotOptions": {},
        "displayType": "table",
        "pivotAggregation": null,
        "pivotColumns": null,
        "xColumns": null,
        "yColumns": null
       },
       "removedWidgets": [],
       "schema": [
        {
         "metadata": "{}",
         "name": "SDG",
         "type": "\"string\""
        },
        {
         "metadata": "{}",
         "name": "SDG target",
         "type": "\"string\""
        },
        {
         "metadata": "{}",
         "name": "SDG indicator",
         "type": "\"string\""
        },
        {
         "metadata": "{}",
         "name": "Indicator Code",
         "type": "\"string\""
        },
        {
         "metadata": "{}",
         "name": "Indicator name",
         "type": "\"string\""
        },
        {
         "metadata": "{}",
         "name": "Geographical area code",
         "type": "\"string\""
        },
        {
         "metadata": "{}",
         "name": "Geographical area name",
         "type": "\"string\""
        },
        {
         "metadata": "{}",
         "name": "Year",
         "type": "\"string\""
        },
        {
         "metadata": "{}",
         "name": "Value",
         "type": "\"string\""
        },
        {
         "metadata": "{}",
         "name": "Time detail",
         "type": "\"string\""
        },
        {
         "metadata": "{}",
         "name": "Source",
         "type": "\"string\""
        },
        {
         "metadata": "{}",
         "name": "Footnote",
         "type": "\"string\""
        },
        {
         "metadata": "{}",
         "name": "Type of data",
         "type": "\"string\""
        },
        {
         "metadata": "{}",
         "name": "Units",
         "type": "\"string\""
        },
        {
         "metadata": "{}",
         "name": "Age group",
         "type": "\"string\""
        },
        {
         "metadata": "{}",
         "name": "Bounds",
         "type": "\"string\""
        },
        {
         "metadata": "{}",
         "name": "Frequency",
         "type": "\"string\""
        },
        {
         "metadata": "{}",
         "name": "Level/Status",
         "type": "\"string\""
        },
        {
         "metadata": "{}",
         "name": "Location",
         "type": "\"string\""
        },
        {
         "metadata": "{}",
         "name": "Type of reporting",
         "type": "\"string\""
        },
        {
         "metadata": "{}",
         "name": "Sex",
         "type": "\"string\""
        },
        {
         "metadata": "{}",
         "name": "SDG 6 Data portal level",
         "type": "\"string\""
        }
       ],
       "type": "table"
      }
     },
     "output_type": "display_data"
    }
   ],
   "source": [
    "display(overall)"
   ]
  },
  {
   "cell_type": "code",
   "execution_count": 0,
   "metadata": {
    "application/vnd.databricks.v1+cell": {
     "cellMetadata": {
      "byteLimit": 2048000,
      "rowLimit": 10000
     },
     "inputWidgets": {},
     "nuid": "4953bc1d-4c94-4965-bb44-dcc0177fd490",
     "showTitle": false,
     "title": ""
    }
   },
   "outputs": [],
   "source": [
    "from pyspark.sql.functions import col \n",
    "from pyspark.sql.types import DoubleType, IntegerType\n",
    "\n",
    "overall_num = overall.withColumn(\"Value\", col(\"Value\").cast(DoubleType())) \\\n",
    "                 .withColumn(\"Year\", col(\"Year\").cast(IntegerType()))"
   ]
  },
  {
   "cell_type": "code",
   "execution_count": 0,
   "metadata": {
    "application/vnd.databricks.v1+cell": {
     "cellMetadata": {
      "byteLimit": 2048000,
      "rowLimit": 10000
     },
     "inputWidgets": {},
     "nuid": "3d0b3247-b333-43c4-99fb-fd814b0bf9c5",
     "showTitle": false,
     "title": ""
    }
   },
   "outputs": [
    {
     "output_type": "stream",
     "name": "stdout",
     "output_type": "stream",
     "text": [
      "Processed Schema:\nroot\n |-- SDG: string (nullable = true)\n |-- SDG target: string (nullable = true)\n |-- SDG indicator: string (nullable = true)\n |-- Indicator Code: string (nullable = true)\n |-- Indicator name: string (nullable = true)\n |-- Geographical area code: string (nullable = true)\n |-- Geographical area name: string (nullable = true)\n |-- Year: integer (nullable = true)\n |-- Value: double (nullable = true)\n |-- Time detail: string (nullable = true)\n |-- Source: string (nullable = true)\n |-- Footnote: string (nullable = true)\n |-- Type of data: string (nullable = true)\n |-- Units: string (nullable = true)\n |-- Age group: string (nullable = true)\n |-- Bounds: string (nullable = true)\n |-- Frequency: string (nullable = true)\n |-- Level/Status: string (nullable = true)\n |-- Location: string (nullable = true)\n |-- Type of reporting: string (nullable = true)\n |-- Sex: string (nullable = true)\n |-- SDG 6 Data portal level: string (nullable = true)\n\n"
     ]
    }
   ],
   "source": [
    "print(\"Processed Schema:\")\n",
    "overall_num.printSchema()"
   ]
  },
  {
   "cell_type": "code",
   "execution_count": 0,
   "metadata": {
    "application/vnd.databricks.v1+cell": {
     "cellMetadata": {
      "byteLimit": 2048000,
      "rowLimit": 10000
     },
     "inputWidgets": {},
     "nuid": "c395b5aa-69b9-47f7-8e5e-1d3132634fcf",
     "showTitle": false,
     "title": ""
    }
   },
   "outputs": [
    {
     "output_type": "display_data",
     "data": {
      "text/html": [
       "<style scoped>\n",
       "  .table-result-container {\n",
       "    max-height: 300px;\n",
       "    overflow: auto;\n",
       "  }\n",
       "  table, th, td {\n",
       "    border: 1px solid black;\n",
       "    border-collapse: collapse;\n",
       "  }\n",
       "  th, td {\n",
       "    padding: 5px;\n",
       "  }\n",
       "  th {\n",
       "    text-align: left;\n",
       "  }\n",
       "</style><div class='table-result-container'><table class='table-result'><thead style='background-color: white'><tr><th>Year</th><th>Value</th></tr></thead><tbody><tr><td>2000</td><td>41.516566077849</td></tr><tr><td>2001</td><td>41.955470588583</td></tr><tr><td>2002</td><td>42.393078989123</td></tr><tr><td>2003</td><td>42.828273466588</td></tr><tr><td>2004</td><td>43.261617365472</td></tr><tr><td>2005</td><td>43.805396222483</td></tr><tr><td>2006</td><td>44.369282773552</td></tr><tr><td>2007</td><td>44.929388561225</td></tr><tr><td>2008</td><td>47.739590836905</td></tr><tr><td>2009</td><td>50.602361224205</td></tr><tr><td>2010</td><td>53.517670540543</td></tr><tr><td>2011</td><td>56.482194628205</td></tr><tr><td>2012</td><td>59.494821494984</td></tr><tr><td>2013</td><td>62.553364120718</td></tr><tr><td>2014</td><td>65.656741096359</td></tr><tr><td>2015</td><td>68.282912929084</td></tr><tr><td>2016</td><td>69.901090364033</td></tr><tr><td>2017</td><td>71.525318695161</td></tr><tr><td>2018</td><td>73.154123251186</td></tr><tr><td>2019</td><td>73.584075809309</td></tr><tr><td>2020</td><td>73.912180206692</td></tr><tr><td>2021</td><td>74.592712960263</td></tr><tr><td>2022</td><td>74.82419935286</td></tr></tbody></table></div>"
      ]
     },
     "metadata": {
      "application/vnd.databricks.v1+output": {
       "addedWidgets": {},
       "aggData": [],
       "aggError": "",
       "aggOverflow": false,
       "aggSchema": [],
       "aggSeriesLimitReached": false,
       "aggType": "",
       "arguments": {},
       "columnCustomDisplayInfos": {},
       "data": [
        [
         2000,
         41.516566077849
        ],
        [
         2001,
         41.955470588583
        ],
        [
         2002,
         42.393078989123
        ],
        [
         2003,
         42.828273466588
        ],
        [
         2004,
         43.261617365472
        ],
        [
         2005,
         43.805396222483
        ],
        [
         2006,
         44.369282773552
        ],
        [
         2007,
         44.929388561225
        ],
        [
         2008,
         47.739590836905
        ],
        [
         2009,
         50.602361224205
        ],
        [
         2010,
         53.517670540543
        ],
        [
         2011,
         56.482194628205
        ],
        [
         2012,
         59.494821494984
        ],
        [
         2013,
         62.553364120718
        ],
        [
         2014,
         65.656741096359
        ],
        [
         2015,
         68.282912929084
        ],
        [
         2016,
         69.901090364033
        ],
        [
         2017,
         71.525318695161
        ],
        [
         2018,
         73.154123251186
        ],
        [
         2019,
         73.584075809309
        ],
        [
         2020,
         73.912180206692
        ],
        [
         2021,
         74.592712960263
        ],
        [
         2022,
         74.82419935286
        ]
       ],
       "datasetInfos": [],
       "dbfsResultPath": null,
       "isJsonSchema": true,
       "metadata": {},
       "overflow": false,
       "plotOptions": {
        "customPlotOptions": {},
        "displayType": "table",
        "pivotAggregation": null,
        "pivotColumns": null,
        "xColumns": null,
        "yColumns": null
       },
       "removedWidgets": [],
       "schema": [
        {
         "metadata": "{}",
         "name": "Year",
         "type": "\"integer\""
        },
        {
         "metadata": "{}",
         "name": "Value",
         "type": "\"double\""
        }
       ],
       "type": "table"
      }
     },
     "output_type": "display_data"
    },
    {
     "output_type": "display_data",
     "data": {
      "text/plain": [
       "Databricks visualization. Run in Databricks to view."
      ]
     },
     "metadata": {
      "application/vnd.databricks.v1.subcommand+json": {
       "baseErrorDetails": null,
       "bindings": {},
       "collapsed": false,
       "command": "%python\n__backend_agg_display_orig = display\n__backend_agg_dfs = []\ndef __backend_agg_display_new(df):\n    __backend_agg_df_modules = [\"pandas.core.frame\", \"databricks.koalas.frame\", \"pyspark.sql.dataframe\", \"pyspark.pandas.frame\", \"pyspark.sql.connect.dataframe\"]\n    if (type(df).__module__ in __backend_agg_df_modules and type(df).__name__ == 'DataFrame') or isinstance(df, list):\n        __backend_agg_dfs.append(df)\n\ndisplay = __backend_agg_display_new\n\ndef __backend_agg_user_code_fn():\n    import base64\n    exec(base64.standard_b64decode(\"ZGlzcGxheShvdmVyYWxsX251bS5maWx0ZXIoY29sKCJZZWFyIikuaXNOb3ROdWxsKCkgJiBjb2woIlZhbHVlIikuaXNOb3ROdWxsKCkpCiAgICAgICAgICAgICAgICAgICAuc2VsZWN0KCJZZWFyIiwgIlZhbHVlIikKICAgICAgICAgICAgICAgICAgIC5vcmRlckJ5KCJZZWFyIikp\").decode())\n\ntry:\n    # run user code\n    __backend_agg_user_code_fn()\n\n    #reset display function\n    display = __backend_agg_display_orig\n\n    if len(__backend_agg_dfs) > 0:\n        # create a temp view\n        if type(__backend_agg_dfs[0]).__module__ == \"databricks.koalas.frame\":\n            # koalas dataframe\n            __backend_agg_dfs[0].to_spark().createOrReplaceTempView(\"DatabricksView53c53bd\")\n        elif type(__backend_agg_dfs[0]).__module__ == \"pandas.core.frame\" or isinstance(__backend_agg_dfs[0], list):\n            # pandas dataframe\n            spark.createDataFrame(__backend_agg_dfs[0]).createOrReplaceTempView(\"DatabricksView53c53bd\")\n        else:\n            __backend_agg_dfs[0].createOrReplaceTempView(\"DatabricksView53c53bd\")\n        #run backend agg\n        display(spark.sql(\"\"\"WITH q AS (select * from DatabricksView53c53bd) SELECT `Year`,SUM(`Value`) `column_d91e627b2` FROM q GROUP BY `Year`\"\"\"))\n    else:\n        displayHTML(\"dataframe no longer exists. If you're using dataframe.display(), use display(dataframe) instead.\")\n\n\nfinally:\n    spark.sql(\"drop view if exists DatabricksView53c53bd\")\n    display = __backend_agg_display_orig\n    del __backend_agg_display_new\n    del __backend_agg_display_orig\n    del __backend_agg_dfs\n    del __backend_agg_user_code_fn\n\n",
       "commandTitle": "Visualization 1",
       "commandType": "auto",
       "commandVersion": 0,
       "commentThread": [],
       "commentsVisible": false,
       "contentSha256Hex": null,
       "customPlotOptions": {
        "redashChart": [
         {
          "key": "type",
          "value": "CHART"
         },
         {
          "key": "options",
          "value": {
           "alignYAxesAtZero": false,
           "coefficient": 1,
           "columnConfigurationMap": {
            "x": {
             "column": "Year",
             "id": "column_d91e627b1"
            },
            "y": [
             {
              "column": "Value",
              "id": "column_d91e627b2",
              "transform": "SUM"
             }
            ]
           },
           "dateTimeFormat": "DD/MM/YYYY HH:mm",
           "direction": {
            "type": "counterclockwise"
           },
           "error_y": {
            "type": "data",
            "visible": true
           },
           "globalSeriesType": "line",
           "hideXAxis": false,
           "isAggregationOn": true,
           "legend": {
            "traceorder": "normal"
           },
           "missingValuesAsZero": true,
           "numberFormat": "0,0.[00000]",
           "percentFormat": "0[.]00%",
           "series": {
            "error_y": {
             "type": "data",
             "visible": true
            },
            "percentValues": false,
            "stacking": null
           },
           "seriesOptions": {
            "column_d91e627b2": {
             "name": "Value",
             "type": "line",
             "yAxis": 0
            }
           },
           "showDataLabels": false,
           "sizemode": "diameter",
           "sortX": true,
           "sortY": true,
           "swappedAxes": false,
           "textFormat": "",
           "useAggregationsUi": true,
           "valuesOptions": {},
           "version": 2,
           "xAxis": {
            "labels": {
             "enabled": true
            },
            "type": "linear"
           },
           "yAxis": [
            {
             "rangeMax": 100,
             "rangeMin": 0,
             "title": {
              "text": "Population (%)"
             },
             "type": "-"
            },
            {
             "opposite": true,
             "type": "-"
            }
           ]
          }
         }
        ]
       },
       "datasetPreviewNameToCmdIdMap": {},
       "diffDeletes": [],
       "diffInserts": [],
       "displayType": "redashChart",
       "error": null,
       "errorDetails": null,
       "errorSummary": null,
       "errorTraceType": null,
       "finishTime": 0,
       "globalVars": {},
       "guid": "",
       "height": "auto",
       "hideCommandCode": false,
       "hideCommandResult": false,
       "iPythonMetadata": null,
       "inputWidgets": {},
       "isLockedInExamMode": false,
       "latestUser": "a user",
       "latestUserId": null,
       "listResultMetadata": null,
       "metadata": {},
       "nuid": "da3e460b-a54b-480e-968d-23a7a225761a",
       "origId": 0,
       "parentHierarchy": [],
       "pivotAggregation": null,
       "pivotColumns": null,
       "position": 10.0,
       "resultDbfsErrorMessage": null,
       "resultDbfsStatus": "INLINED_IN_TREE",
       "results": null,
       "showCommandTitle": false,
       "startTime": 0,
       "state": "input",
       "streamStates": {},
       "subcommandOptions": {
        "queryPlan": {
         "groups": [
          {
           "column": "Year",
           "type": "column"
          }
         ],
         "selects": [
          {
           "column": "Year",
           "type": "column"
          },
          {
           "alias": "column_d91e627b2",
           "args": [
            {
             "column": "Value",
             "type": "column"
            }
           ],
           "function": "SUM",
           "type": "function"
          }
         ]
        }
       },
       "submitTime": 0,
       "subtype": "tableResultSubCmd.visualization",
       "tableResultIndex": 0,
       "useConsistentColors": false,
       "version": "CommandV1",
       "width": "auto",
       "workflows": [],
       "xColumns": null,
       "yColumns": null
      }
     },
     "output_type": "display_data"
    }
   ],
   "source": [
    "display(overall_num.filter(col(\"Year\").isNotNull() & col(\"Value\").isNotNull())\n",
    "                   .select(\"Year\", \"Value\")\n",
    "                   .orderBy(\"Year\"))"
   ]
  }
 ],
 "metadata": {
  "application/vnd.databricks.v1+notebook": {
   "dashboards": [],
   "environmentMetadata": null,
   "language": "python",
   "notebookMetadata": {
    "mostRecentlyExecutedCommandWithImplicitDF": {
     "commandId": 673830781092018,
     "dataframes": [
      "_sqldf"
     ]
    },
    "pythonIndentUnit": 4
   },
   "notebookName": "Ingest_population_water_safelly",
   "widgets": {}
  }
 },
 "nbformat": 4,
 "nbformat_minor": 0
}
