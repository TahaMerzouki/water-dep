{
 "cells": [
  {
   "cell_type": "markdown",
   "metadata": {
    "application/vnd.databricks.v1+cell": {
     "cellMetadata": {
      "byteLimit": 2048000,
      "rowLimit": 10000
     },
     "inputWidgets": {},
     "nuid": "d9e83f19-6802-4534-a2ac-dd3e2784b0ac",
     "showTitle": false,
     "title": ""
    }
   },
   "source": [
    "# Ingest population using water safelly overall"
   ]
  },
  {
   "cell_type": "code",
   "execution_count": 0,
   "metadata": {
    "application/vnd.databricks.v1+cell": {
     "cellMetadata": {
      "byteLimit": 2048000,
      "rowLimit": 10000
     },
     "inputWidgets": {},
     "nuid": "25fa1929-1f9e-4974-8e0c-cf0b180730bc",
     "showTitle": false,
     "title": ""
    }
   },
   "outputs": [
    {
     "output_type": "display_data",
     "data": {
      "text/html": [
       "<style scoped>\n",
       "  .table-result-container {\n",
       "    max-height: 300px;\n",
       "    overflow: auto;\n",
       "  }\n",
       "  table, th, td {\n",
       "    border: 1px solid black;\n",
       "    border-collapse: collapse;\n",
       "  }\n",
       "  th, td {\n",
       "    padding: 5px;\n",
       "  }\n",
       "  th {\n",
       "    text-align: left;\n",
       "  }\n",
       "</style><div class='table-result-container'><table class='table-result'><thead style='background-color: white'><tr><th>mountPoint</th><th>source</th><th>encryptionType</th></tr></thead><tbody><tr><td>/databricks-datasets</td><td>databricks-datasets</td><td></td></tr><tr><td>/mnt/waterprojectdl/bronze</td><td>abfss://bronze@waterprojectdl.dfs.core.windows.net/</td><td></td></tr><tr><td>/Volumes</td><td>UnityCatalogVolumes</td><td></td></tr><tr><td>/mnt/waterprojectdl-raw</td><td>abfss://raw@waterprojectdl.dfs.core.windows.net/</td><td></td></tr><tr><td>/databricks/mlflow-tracking</td><td>databricks/mlflow-tracking</td><td></td></tr><tr><td>/databricks-results</td><td>databricks-results</td><td></td></tr><tr><td>/mnt/waterprojectdl/raw</td><td>abfss://raw@waterprojectdl.dfs.core.windows.net/</td><td></td></tr><tr><td>/databricks/mlflow-registry</td><td>databricks/mlflow-registry</td><td></td></tr><tr><td>/Volume</td><td>DbfsReserved</td><td></td></tr><tr><td>/volumes</td><td>DbfsReserved</td><td></td></tr><tr><td>/</td><td>DatabricksRoot</td><td></td></tr><tr><td>/volume</td><td>DbfsReserved</td><td></td></tr></tbody></table></div>"
      ]
     },
     "metadata": {
      "application/vnd.databricks.v1+output": {
       "addedWidgets": {},
       "aggData": [],
       "aggError": "",
       "aggOverflow": false,
       "aggSchema": [],
       "aggSeriesLimitReached": false,
       "aggType": "",
       "arguments": {},
       "columnCustomDisplayInfos": {},
       "data": [
        [
         "/databricks-datasets",
         "databricks-datasets",
         ""
        ],
        [
         "/mnt/waterprojectdl/bronze",
         "abfss://bronze@waterprojectdl.dfs.core.windows.net/",
         ""
        ],
        [
         "/Volumes",
         "UnityCatalogVolumes",
         ""
        ],
        [
         "/mnt/waterprojectdl-raw",
         "abfss://raw@waterprojectdl.dfs.core.windows.net/",
         ""
        ],
        [
         "/databricks/mlflow-tracking",
         "databricks/mlflow-tracking",
         ""
        ],
        [
         "/databricks-results",
         "databricks-results",
         ""
        ],
        [
         "/mnt/waterprojectdl/raw",
         "abfss://raw@waterprojectdl.dfs.core.windows.net/",
         ""
        ],
        [
         "/databricks/mlflow-registry",
         "databricks/mlflow-registry",
         ""
        ],
        [
         "/Volume",
         "DbfsReserved",
         ""
        ],
        [
         "/volumes",
         "DbfsReserved",
         ""
        ],
        [
         "/",
         "DatabricksRoot",
         ""
        ],
        [
         "/volume",
         "DbfsReserved",
         ""
        ]
       ],
       "datasetInfos": [],
       "dbfsResultPath": null,
       "isJsonSchema": true,
       "metadata": {},
       "overflow": false,
       "plotOptions": {
        "customPlotOptions": {},
        "displayType": "table",
        "pivotAggregation": null,
        "pivotColumns": null,
        "xColumns": null,
        "yColumns": null
       },
       "removedWidgets": [],
       "schema": [
        {
         "metadata": "{}",
         "name": "mountPoint",
         "type": "\"string\""
        },
        {
         "metadata": "{}",
         "name": "source",
         "type": "\"string\""
        },
        {
         "metadata": "{}",
         "name": "encryptionType",
         "type": "\"string\""
        }
       ],
       "type": "table"
      }
     },
     "output_type": "display_data"
    }
   ],
   "source": [
    "display(dbutils.fs.mounts())"
   ]
  },
  {
   "cell_type": "code",
   "execution_count": 0,
   "metadata": {
    "application/vnd.databricks.v1+cell": {
     "cellMetadata": {
      "byteLimit": 2048000,
      "rowLimit": 10000
     },
     "inputWidgets": {},
     "nuid": "6e619c34-8ed1-41a2-b524-a28f529da7c8",
     "showTitle": false,
     "title": ""
    }
   },
   "outputs": [],
   "source": [
    "%fs \n",
    "ls /mnt/waterprojectdl/raw"
   ]
  },
  {
   "cell_type": "code",
   "execution_count": 0,
   "metadata": {
    "application/vnd.databricks.v1+cell": {
     "cellMetadata": {
      "byteLimit": 2048000,
      "rowLimit": 10000
     },
     "inputWidgets": {},
     "nuid": "3ac6fed3-ab32-4f7c-a4cf-8f22fc5712c9",
     "showTitle": false,
     "title": ""
    }
   },
   "outputs": [],
   "source": [
    "overall = spark.read.csv(\"dbfs:/mnt/waterprojectdl/raw/population_using_water_safely_overall.csv\", header=True)"
   ]
  },
  {
   "cell_type": "code",
   "execution_count": 0,
   "metadata": {
    "application/vnd.databricks.v1+cell": {
     "cellMetadata": {
      "byteLimit": 2048000,
      "rowLimit": 10000
     },
     "inputWidgets": {},
     "nuid": "e2276d2e-aa31-4581-9b9c-5f0971fe3a68",
     "showTitle": false,
     "title": ""
    }
   },
   "outputs": [],
   "source": [
    "from process import remove_specific_rows\n",
    "overall_num_cleaned = remove_specific_rows(overall, 24, 59)"
   ]
  },
  {
   "cell_type": "code",
   "execution_count": 0,
   "metadata": {
    "application/vnd.databricks.v1+cell": {
     "cellMetadata": {
      "byteLimit": 2048000,
      "rowLimit": 10000
     },
     "inputWidgets": {},
     "nuid": "f31a1676-da3c-4fec-8788-17477f859aaa",
     "showTitle": false,
     "title": ""
    }
   },
   "outputs": [
    {
     "output_type": "stream",
     "name": "stdout",
     "output_type": "stream",
     "text": [
      "Out[4]: ['SDG',\n 'SDG target',\n 'Indicator Code',\n 'Geographical area code',\n 'Time detail',\n 'Footnote',\n 'Type of data',\n 'Units',\n 'Age group',\n 'Bounds',\n 'Frequency',\n 'Level/Status',\n 'Type of reporting',\n 'Sex']"
     ]
    }
   ],
   "source": [
    "from pyspark.sql.functions import col\n",
    "\n",
    "columns = overall_num_cleaned.columns\n",
    "\n",
    "null_columns = [column for column in columns if overall_num_cleaned.filter(col(column).isNotNull()).count() == 0]\n",
    "\n",
    "null_columns"
   ]
  },
  {
   "cell_type": "code",
   "execution_count": 0,
   "metadata": {
    "application/vnd.databricks.v1+cell": {
     "cellMetadata": {
      "byteLimit": 2048000,
      "rowLimit": 10000
     },
     "inputWidgets": {},
     "nuid": "4193f7b3-b5bf-48ef-a9fd-9aa410d74e5a",
     "showTitle": false,
     "title": ""
    }
   },
   "outputs": [
    {
     "output_type": "display_data",
     "data": {
      "text/html": [
       "<style scoped>\n",
       "  .table-result-container {\n",
       "    max-height: 300px;\n",
       "    overflow: auto;\n",
       "  }\n",
       "  table, th, td {\n",
       "    border: 1px solid black;\n",
       "    border-collapse: collapse;\n",
       "  }\n",
       "  th, td {\n",
       "    padding: 5px;\n",
       "  }\n",
       "  th {\n",
       "    text-align: left;\n",
       "  }\n",
       "</style><div class='table-result-container'><table class='table-result'><thead style='background-color: white'><tr><th>Indicator name</th><th>Geographical area name</th><th>Year</th><th>Value</th><th>Source</th><th>Location</th></tr></thead><tbody><tr><td>Drinking water,Safely managed service</td><td>Morocco</td><td>2000</td><td>41.516566077849</td><td>WHO, UNICEF</td><td>National</td></tr><tr><td>Drinking water,Safely managed service</td><td>Morocco</td><td>2001</td><td>41.955470588583</td><td>WHO, UNICEF</td><td>National</td></tr><tr><td>Drinking water,Safely managed service</td><td>Morocco</td><td>2002</td><td>42.393078989123</td><td>WHO, UNICEF</td><td>National</td></tr><tr><td>Drinking water,Safely managed service</td><td>Morocco</td><td>2003</td><td>42.828273466588</td><td>WHO, UNICEF</td><td>National</td></tr><tr><td>Drinking water,Safely managed service</td><td>Morocco</td><td>2004</td><td>43.261617365472</td><td>WHO, UNICEF</td><td>National</td></tr><tr><td>Drinking water,Safely managed service</td><td>Morocco</td><td>2005</td><td>43.805396222483</td><td>WHO, UNICEF</td><td>National</td></tr><tr><td>Drinking water,Safely managed service</td><td>Morocco</td><td>2006</td><td>44.369282773552</td><td>WHO, UNICEF</td><td>National</td></tr><tr><td>Drinking water,Safely managed service</td><td>Morocco</td><td>2007</td><td>44.929388561225</td><td>WHO, UNICEF</td><td>National</td></tr><tr><td>Drinking water,Safely managed service</td><td>Morocco</td><td>2008</td><td>47.739590836905</td><td>WHO, UNICEF</td><td>National</td></tr><tr><td>Drinking water,Safely managed service</td><td>Morocco</td><td>2009</td><td>50.602361224205</td><td>WHO, UNICEF</td><td>National</td></tr><tr><td>Drinking water,Safely managed service</td><td>Morocco</td><td>2010</td><td>53.517670540543</td><td>WHO, UNICEF</td><td>National</td></tr><tr><td>Drinking water,Safely managed service</td><td>Morocco</td><td>2011</td><td>56.482194628205</td><td>WHO, UNICEF</td><td>National</td></tr><tr><td>Drinking water,Safely managed service</td><td>Morocco</td><td>2012</td><td>59.494821494984</td><td>WHO, UNICEF</td><td>National</td></tr><tr><td>Drinking water,Safely managed service</td><td>Morocco</td><td>2013</td><td>62.553364120718</td><td>WHO, UNICEF</td><td>National</td></tr><tr><td>Drinking water,Safely managed service</td><td>Morocco</td><td>2014</td><td>65.656741096359</td><td>WHO, UNICEF</td><td>National</td></tr><tr><td>Drinking water,Safely managed service</td><td>Morocco</td><td>2015</td><td>68.282912929084</td><td>WHO, UNICEF</td><td>National</td></tr><tr><td>Drinking water,Safely managed service</td><td>Morocco</td><td>2016</td><td>69.901090364033</td><td>WHO, UNICEF</td><td>National</td></tr><tr><td>Drinking water,Safely managed service</td><td>Morocco</td><td>2017</td><td>71.525318695161</td><td>WHO, UNICEF</td><td>National</td></tr><tr><td>Drinking water,Safely managed service</td><td>Morocco</td><td>2018</td><td>73.154123251186</td><td>WHO, UNICEF</td><td>National</td></tr><tr><td>Drinking water,Safely managed service</td><td>Morocco</td><td>2019</td><td>73.584075809309</td><td>WHO, UNICEF</td><td>National</td></tr><tr><td>Drinking water,Safely managed service</td><td>Morocco</td><td>2020</td><td>73.912180206692</td><td>WHO, UNICEF</td><td>National</td></tr><tr><td>Drinking water,Safely managed service</td><td>Morocco</td><td>2021</td><td>74.592712960263</td><td>WHO, UNICEF</td><td>National</td></tr><tr><td>Drinking water,Safely managed service</td><td>Morocco</td><td>2022</td><td>74.82419935286</td><td>WHO, UNICEF</td><td>National</td></tr></tbody></table></div>"
      ]
     },
     "metadata": {
      "application/vnd.databricks.v1+output": {
       "addedWidgets": {},
       "aggData": [],
       "aggError": "",
       "aggOverflow": false,
       "aggSchema": [],
       "aggSeriesLimitReached": false,
       "aggType": "",
       "arguments": {},
       "columnCustomDisplayInfos": {},
       "data": [
        [
         "Drinking water,Safely managed service",
         "Morocco",
         "2000",
         "41.516566077849",
         "WHO, UNICEF",
         "National"
        ],
        [
         "Drinking water,Safely managed service",
         "Morocco",
         "2001",
         "41.955470588583",
         "WHO, UNICEF",
         "National"
        ],
        [
         "Drinking water,Safely managed service",
         "Morocco",
         "2002",
         "42.393078989123",
         "WHO, UNICEF",
         "National"
        ],
        [
         "Drinking water,Safely managed service",
         "Morocco",
         "2003",
         "42.828273466588",
         "WHO, UNICEF",
         "National"
        ],
        [
         "Drinking water,Safely managed service",
         "Morocco",
         "2004",
         "43.261617365472",
         "WHO, UNICEF",
         "National"
        ],
        [
         "Drinking water,Safely managed service",
         "Morocco",
         "2005",
         "43.805396222483",
         "WHO, UNICEF",
         "National"
        ],
        [
         "Drinking water,Safely managed service",
         "Morocco",
         "2006",
         "44.369282773552",
         "WHO, UNICEF",
         "National"
        ],
        [
         "Drinking water,Safely managed service",
         "Morocco",
         "2007",
         "44.929388561225",
         "WHO, UNICEF",
         "National"
        ],
        [
         "Drinking water,Safely managed service",
         "Morocco",
         "2008",
         "47.739590836905",
         "WHO, UNICEF",
         "National"
        ],
        [
         "Drinking water,Safely managed service",
         "Morocco",
         "2009",
         "50.602361224205",
         "WHO, UNICEF",
         "National"
        ],
        [
         "Drinking water,Safely managed service",
         "Morocco",
         "2010",
         "53.517670540543",
         "WHO, UNICEF",
         "National"
        ],
        [
         "Drinking water,Safely managed service",
         "Morocco",
         "2011",
         "56.482194628205",
         "WHO, UNICEF",
         "National"
        ],
        [
         "Drinking water,Safely managed service",
         "Morocco",
         "2012",
         "59.494821494984",
         "WHO, UNICEF",
         "National"
        ],
        [
         "Drinking water,Safely managed service",
         "Morocco",
         "2013",
         "62.553364120718",
         "WHO, UNICEF",
         "National"
        ],
        [
         "Drinking water,Safely managed service",
         "Morocco",
         "2014",
         "65.656741096359",
         "WHO, UNICEF",
         "National"
        ],
        [
         "Drinking water,Safely managed service",
         "Morocco",
         "2015",
         "68.282912929084",
         "WHO, UNICEF",
         "National"
        ],
        [
         "Drinking water,Safely managed service",
         "Morocco",
         "2016",
         "69.901090364033",
         "WHO, UNICEF",
         "National"
        ],
        [
         "Drinking water,Safely managed service",
         "Morocco",
         "2017",
         "71.525318695161",
         "WHO, UNICEF",
         "National"
        ],
        [
         "Drinking water,Safely managed service",
         "Morocco",
         "2018",
         "73.154123251186",
         "WHO, UNICEF",
         "National"
        ],
        [
         "Drinking water,Safely managed service",
         "Morocco",
         "2019",
         "73.584075809309",
         "WHO, UNICEF",
         "National"
        ],
        [
         "Drinking water,Safely managed service",
         "Morocco",
         "2020",
         "73.912180206692",
         "WHO, UNICEF",
         "National"
        ],
        [
         "Drinking water,Safely managed service",
         "Morocco",
         "2021",
         "74.592712960263",
         "WHO, UNICEF",
         "National"
        ],
        [
         "Drinking water,Safely managed service",
         "Morocco",
         "2022",
         "74.82419935286",
         "WHO, UNICEF",
         "National"
        ]
       ],
       "datasetInfos": [],
       "dbfsResultPath": null,
       "isJsonSchema": true,
       "metadata": {},
       "overflow": false,
       "plotOptions": {
        "customPlotOptions": {},
        "displayType": "table",
        "pivotAggregation": null,
        "pivotColumns": null,
        "xColumns": null,
        "yColumns": null
       },
       "removedWidgets": [],
       "schema": [
        {
         "metadata": "{}",
         "name": "Indicator name",
         "type": "\"string\""
        },
        {
         "metadata": "{}",
         "name": "Geographical area name",
         "type": "\"string\""
        },
        {
         "metadata": "{}",
         "name": "Year",
         "type": "\"string\""
        },
        {
         "metadata": "{}",
         "name": "Value",
         "type": "\"string\""
        },
        {
         "metadata": "{}",
         "name": "Source",
         "type": "\"string\""
        },
        {
         "metadata": "{}",
         "name": "Location",
         "type": "\"string\""
        }
       ],
       "type": "table"
      }
     },
     "output_type": "display_data"
    }
   ],
   "source": [
    "overall_cleaned_col = overall_num_cleaned.drop(*null_columns, \"SDG indicator\", \"SDG 6 Data portal level\")\n",
    "display(overall_cleaned_col)"
   ]
  },
  {
   "cell_type": "code",
   "execution_count": 0,
   "metadata": {
    "application/vnd.databricks.v1+cell": {
     "cellMetadata": {
      "byteLimit": 2048000,
      "rowLimit": 10000
     },
     "inputWidgets": {},
     "nuid": "33b5f2cb-f5e7-4261-9c00-f2a7971893cd",
     "showTitle": false,
     "title": ""
    }
   },
   "outputs": [],
   "source": [
    "overall_cleaned_col = overall_cleaned_col.withColumn(\"Value\", col(\"Value\").cast(\"double\")).withColumn(\"Year\", col(\"Year\").cast(\"integer\"))"
   ]
  },
  {
   "cell_type": "code",
   "execution_count": 0,
   "metadata": {
    "application/vnd.databricks.v1+cell": {
     "cellMetadata": {
      "byteLimit": 2048000,
      "rowLimit": 10000
     },
     "inputWidgets": {},
     "nuid": "81ec828a-c1db-434f-9690-525615695b7d",
     "showTitle": false,
     "title": ""
    }
   },
   "outputs": [
    {
     "output_type": "stream",
     "name": "stdout",
     "output_type": "stream",
     "text": [
      "root\n |-- Indicator name: string (nullable = true)\n |-- Geographical area name: string (nullable = true)\n |-- Year: integer (nullable = true)\n |-- Value: double (nullable = true)\n |-- Source: string (nullable = true)\n |-- Location: string (nullable = true)\n\n"
     ]
    }
   ],
   "source": [
    "overall_cleaned_col.printSchema()"
   ]
  },
  {
   "cell_type": "code",
   "execution_count": 0,
   "metadata": {
    "application/vnd.databricks.v1+cell": {
     "cellMetadata": {
      "byteLimit": 2048000,
      "rowLimit": 10000
     },
     "inputWidgets": {},
     "nuid": "c395b5aa-69b9-47f7-8e5e-1d3132634fcf",
     "showTitle": false,
     "title": ""
    }
   },
   "outputs": [
    {
     "output_type": "display_data",
     "data": {
      "text/html": [
       "<style scoped>\n",
       "  .table-result-container {\n",
       "    max-height: 300px;\n",
       "    overflow: auto;\n",
       "  }\n",
       "  table, th, td {\n",
       "    border: 1px solid black;\n",
       "    border-collapse: collapse;\n",
       "  }\n",
       "  th, td {\n",
       "    padding: 5px;\n",
       "  }\n",
       "  th {\n",
       "    text-align: left;\n",
       "  }\n",
       "</style><div class='table-result-container'><table class='table-result'><thead style='background-color: white'><tr><th>Year</th><th>Value</th></tr></thead><tbody><tr><td>2000</td><td>41.516566077849</td></tr><tr><td>2001</td><td>41.955470588583</td></tr><tr><td>2002</td><td>42.393078989123</td></tr><tr><td>2003</td><td>42.828273466588</td></tr><tr><td>2004</td><td>43.261617365472</td></tr><tr><td>2005</td><td>43.805396222483</td></tr><tr><td>2006</td><td>44.369282773552</td></tr><tr><td>2007</td><td>44.929388561225</td></tr><tr><td>2008</td><td>47.739590836905</td></tr><tr><td>2009</td><td>50.602361224205</td></tr><tr><td>2010</td><td>53.517670540543</td></tr><tr><td>2011</td><td>56.482194628205</td></tr><tr><td>2012</td><td>59.494821494984</td></tr><tr><td>2013</td><td>62.553364120718</td></tr><tr><td>2014</td><td>65.656741096359</td></tr><tr><td>2015</td><td>68.282912929084</td></tr><tr><td>2016</td><td>69.901090364033</td></tr><tr><td>2017</td><td>71.525318695161</td></tr><tr><td>2018</td><td>73.154123251186</td></tr><tr><td>2019</td><td>73.584075809309</td></tr><tr><td>2020</td><td>73.912180206692</td></tr><tr><td>2021</td><td>74.592712960263</td></tr><tr><td>2022</td><td>74.82419935286</td></tr></tbody></table></div>"
      ]
     },
     "metadata": {
      "application/vnd.databricks.v1+output": {
       "addedWidgets": {},
       "aggData": [],
       "aggError": "",
       "aggOverflow": false,
       "aggSchema": [],
       "aggSeriesLimitReached": false,
       "aggType": "",
       "arguments": {},
       "columnCustomDisplayInfos": {},
       "data": [
        [
         2000,
         41.516566077849
        ],
        [
         2001,
         41.955470588583
        ],
        [
         2002,
         42.393078989123
        ],
        [
         2003,
         42.828273466588
        ],
        [
         2004,
         43.261617365472
        ],
        [
         2005,
         43.805396222483
        ],
        [
         2006,
         44.369282773552
        ],
        [
         2007,
         44.929388561225
        ],
        [
         2008,
         47.739590836905
        ],
        [
         2009,
         50.602361224205
        ],
        [
         2010,
         53.517670540543
        ],
        [
         2011,
         56.482194628205
        ],
        [
         2012,
         59.494821494984
        ],
        [
         2013,
         62.553364120718
        ],
        [
         2014,
         65.656741096359
        ],
        [
         2015,
         68.282912929084
        ],
        [
         2016,
         69.901090364033
        ],
        [
         2017,
         71.525318695161
        ],
        [
         2018,
         73.154123251186
        ],
        [
         2019,
         73.584075809309
        ],
        [
         2020,
         73.912180206692
        ],
        [
         2021,
         74.592712960263
        ],
        [
         2022,
         74.82419935286
        ]
       ],
       "datasetInfos": [],
       "dbfsResultPath": null,
       "isJsonSchema": true,
       "metadata": {},
       "overflow": false,
       "plotOptions": {
        "customPlotOptions": {},
        "displayType": "table",
        "pivotAggregation": null,
        "pivotColumns": null,
        "xColumns": null,
        "yColumns": null
       },
       "removedWidgets": [],
       "schema": [
        {
         "metadata": "{}",
         "name": "Year",
         "type": "\"integer\""
        },
        {
         "metadata": "{}",
         "name": "Value",
         "type": "\"double\""
        }
       ],
       "type": "table"
      }
     },
     "output_type": "display_data"
    },
    {
     "output_type": "display_data",
     "data": {
      "text/plain": [
       "Databricks visualization. Run in Databricks to view."
      ]
     },
     "metadata": {
      "application/vnd.databricks.v1.subcommand+json": {
       "baseErrorDetails": null,
       "bindings": {},
       "collapsed": false,
       "command": "%python\n__backend_agg_display_orig = display\n__backend_agg_dfs = []\ndef __backend_agg_display_new(df):\n    __backend_agg_df_modules = [\"pandas.core.frame\", \"databricks.koalas.frame\", \"pyspark.sql.dataframe\", \"pyspark.pandas.frame\", \"pyspark.sql.connect.dataframe\"]\n    if (type(df).__module__ in __backend_agg_df_modules and type(df).__name__ == 'DataFrame') or isinstance(df, list):\n        __backend_agg_dfs.append(df)\n\ndisplay = __backend_agg_display_new\n\ndef __backend_agg_user_code_fn():\n    import base64\n    exec(base64.standard_b64decode(\"ZGlzcGxheShvdmVyYWxsX2NsZWFuZWRfY29sLnNlbGVjdCgiWWVhciIsIlZhbHVlIikub3JkZXJCeSgiWWVhciIpKQ==\").decode())\n\ntry:\n    # run user code\n    __backend_agg_user_code_fn()\n\n    #reset display function\n    display = __backend_agg_display_orig\n\n    if len(__backend_agg_dfs) > 0:\n        # create a temp view\n        if type(__backend_agg_dfs[0]).__module__ == \"databricks.koalas.frame\":\n            # koalas dataframe\n            __backend_agg_dfs[0].to_spark().createOrReplaceTempView(\"DatabricksView121c13e\")\n        elif type(__backend_agg_dfs[0]).__module__ == \"pandas.core.frame\" or isinstance(__backend_agg_dfs[0], list):\n            # pandas dataframe\n            spark.createDataFrame(__backend_agg_dfs[0]).createOrReplaceTempView(\"DatabricksView121c13e\")\n        else:\n            __backend_agg_dfs[0].createOrReplaceTempView(\"DatabricksView121c13e\")\n        #run backend agg\n        display(spark.sql(\"\"\"WITH q AS (select * from DatabricksView121c13e) SELECT `Year`,SUM(`Value`) `column_c7807a1c15` FROM q GROUP BY `Year`\"\"\"))\n    else:\n        displayHTML(\"dataframe no longer exists. If you're using dataframe.display(), use display(dataframe) instead.\")\n\n\nfinally:\n    spark.sql(\"drop view if exists DatabricksView121c13e\")\n    display = __backend_agg_display_orig\n    del __backend_agg_display_new\n    del __backend_agg_display_orig\n    del __backend_agg_dfs\n    del __backend_agg_user_code_fn\n\n",
       "commandTitle": "Visualization 1",
       "commandType": "auto",
       "commandVersion": 0,
       "commentThread": [],
       "commentsVisible": false,
       "contentSha256Hex": null,
       "customPlotOptions": {
        "redashChart": [
         {
          "key": "type",
          "value": "CHART"
         },
         {
          "key": "options",
          "value": {
           "alignYAxesAtZero": false,
           "coefficient": 1,
           "columnConfigurationMap": {
            "x": {
             "column": "Year",
             "id": "column_c7807a1c14"
            },
            "y": [
             {
              "column": "Value",
              "id": "column_c7807a1c15",
              "transform": "SUM"
             }
            ]
           },
           "dateTimeFormat": "DD/MM/YYYY HH:mm",
           "direction": {
            "type": "counterclockwise"
           },
           "error_y": {
            "type": "data",
            "visible": true
           },
           "globalSeriesType": "area",
           "isAggregationOn": true,
           "legend": {
            "traceorder": "normal"
           },
           "missingValuesAsZero": true,
           "numberFormat": "0000,0.[00000]",
           "percentFormat": "0[.]00%",
           "series": {
            "error_y": {
             "type": "data",
             "visible": true
            },
            "stacking": ""
           },
           "seriesOptions": {
            "column_c7807a1c15": {
             "name": "Value",
             "type": "area",
             "yAxis": 0
            }
           },
           "showDataLabels": false,
           "sizemode": "diameter",
           "sortX": true,
           "sortY": true,
           "swappedAxes": false,
           "textFormat": "",
           "useAggregationsUi": true,
           "valuesOptions": {},
           "version": 2,
           "xAxis": {
            "labels": {
             "enabled": true
            },
            "type": "-"
           },
           "yAxis": [
            {
             "rangeMax": 100,
             "rangeMin": 0,
             "title": {
              "text": "Population %"
             },
             "type": "-"
            },
            {
             "opposite": true,
             "type": "-"
            }
           ]
          }
         }
        ]
       },
       "datasetPreviewNameToCmdIdMap": {},
       "diffDeletes": [],
       "diffInserts": [],
       "displayType": "redashChart",
       "error": null,
       "errorDetails": null,
       "errorSummary": null,
       "errorTraceType": null,
       "finishTime": 0,
       "globalVars": {},
       "guid": "",
       "height": "auto",
       "hideCommandCode": false,
       "hideCommandResult": false,
       "iPythonMetadata": null,
       "inputWidgets": {},
       "isLockedInExamMode": false,
       "latestUser": "a user",
       "latestUserId": null,
       "listResultMetadata": null,
       "metadata": {
        "byteLimit": 2048000,
        "rowLimit": 10000
       },
       "nuid": "7912a1f4-24b0-4ca5-b448-2aa60d808d5c",
       "origId": 0,
       "parentHierarchy": [],
       "pivotAggregation": null,
       "pivotColumns": null,
       "position": 11.0,
       "resultDbfsErrorMessage": null,
       "resultDbfsStatus": "INLINED_IN_TREE",
       "results": null,
       "showCommandTitle": false,
       "startTime": 0,
       "state": "input",
       "streamStates": {},
       "subcommandOptions": {
        "queryPlan": {
         "groups": [
          {
           "column": "Year",
           "type": "column"
          }
         ],
         "selects": [
          {
           "column": "Year",
           "type": "column"
          },
          {
           "alias": "column_c7807a1c15",
           "args": [
            {
             "column": "Value",
             "type": "column"
            }
           ],
           "function": "SUM",
           "type": "function"
          }
         ]
        }
       },
       "submitTime": 0,
       "subtype": "tableResultSubCmd.visualization",
       "tableResultIndex": 0,
       "tableResultSettingsMap": null,
       "useConsistentColors": false,
       "version": "CommandV1",
       "width": "auto",
       "workflows": [],
       "xColumns": null,
       "yColumns": null
      }
     },
     "output_type": "display_data"
    }
   ],
   "source": [
    "display(overall_cleaned_col.select(\"Year\",\"Value\").orderBy(\"Year\"))"
   ]
  },
  {
   "cell_type": "markdown",
   "metadata": {
    "application/vnd.databricks.v1+cell": {
     "cellMetadata": {
      "byteLimit": 2048000,
      "rowLimit": 10000
     },
     "inputWidgets": {},
     "nuid": "6f73fe00-9d2a-4c50-94da-6ad1a95969c6",
     "showTitle": false,
     "title": ""
    }
   },
   "source": [
    "## Write the dataframe in a parquet file to processed folder\n"
   ]
  },
  {
   "cell_type": "code",
   "execution_count": 0,
   "metadata": {
    "application/vnd.databricks.v1+cell": {
     "cellMetadata": {
      "byteLimit": 2048000,
      "rowLimit": 10000
     },
     "inputWidgets": {},
     "nuid": "0a2bed2d-5be9-428c-9675-1a68edef1003",
     "showTitle": false,
     "title": ""
    }
   },
   "outputs": [
    {
     "output_type": "stream",
     "name": "stdout",
     "output_type": "stream",
     "text": [
      "Attempting to mount processed to /mnt/waterprojectdl/processed\nMounting processed to /mnt/waterprojectdl/processed\nSuccessfully mounted processed to /mnt/waterprojectdl/processed\n"
     ]
    }
   ],
   "source": [
    "from wtr_utils import mount_dbfs\n",
    "processed_mount = mount_dbfs(\"waterprojectdl\", \"processed\")"
   ]
  },
  {
   "cell_type": "code",
   "execution_count": 0,
   "metadata": {
    "application/vnd.databricks.v1+cell": {
     "cellMetadata": {
      "byteLimit": 2048000,
      "rowLimit": 10000
     },
     "inputWidgets": {},
     "nuid": "5215c16b-b2ff-4260-9586-2ac9269800eb",
     "showTitle": false,
     "title": ""
    }
   },
   "outputs": [],
   "source": [
    "overall_cleaned_col.write.mode(\"overwrite\").parquet(\"dbfs:/mnt/waterprojectdl/processed/overall\")"
   ]
  },
  {
   "cell_type": "code",
   "execution_count": 0,
   "metadata": {
    "application/vnd.databricks.v1+cell": {
     "cellMetadata": {
      "byteLimit": 2048000,
      "rowLimit": 10000
     },
     "inputWidgets": {},
     "nuid": "200dd127-5dd2-4aee-a0b4-d94e09d2a9e3",
     "showTitle": false,
     "title": ""
    }
   },
   "outputs": [
    {
     "output_type": "stream",
     "name": "stdout",
     "output_type": "stream",
     "text": [
      "dbfs:/mnt/waterprojectdl/processed/overall/_SUCCESS\ndbfs:/mnt/waterprojectdl/processed/overall/_committed_1488123185496759241\ndbfs:/mnt/waterprojectdl/processed/overall/_started_1488123185496759241\ndbfs:/mnt/waterprojectdl/processed/overall/part-00000-tid-1488123185496759241-f9c42eb7-268e-4dfe-bf7c-3c6d93d2085b-54-1-c000.snappy.parquet\n"
     ]
    }
   ],
   "source": [
    "files = dbutils.fs.ls(\"mnt/waterprojectdl/processed/overall\")\n",
    "for file in files:\n",
    "    print(file.path)"
   ]
  },
  {
   "cell_type": "code",
   "execution_count": 0,
   "metadata": {
    "application/vnd.databricks.v1+cell": {
     "cellMetadata": {
      "byteLimit": 2048000,
      "rowLimit": 10000
     },
     "inputWidgets": {},
     "nuid": "9045d426-053f-4d56-aaef-de3c052b4c9e",
     "showTitle": false,
     "title": ""
    }
   },
   "outputs": [
    {
     "output_type": "stream",
     "name": "stdout",
     "output_type": "stream",
     "text": [
      "Files written to dbfs:/mnt/waterprojectdl/processed/overall:\ndbfs:/mnt/waterprojectdl/processed/overall/_SUCCESS\ndbfs:/mnt/waterprojectdl/processed/overall/_committed_1488123185496759241\ndbfs:/mnt/waterprojectdl/processed/overall/_started_1488123185496759241\ndbfs:/mnt/waterprojectdl/processed/overall/part-00000-tid-1488123185496759241-f9c42eb7-268e-4dfe-bf7c-3c6d93d2085b-54-1-c000.snappy.parquet\n"
     ]
    }
   ],
   "source": [
    "output_path = \"dbfs:/mnt/waterprojectdl/processed/overall\"\n",
    "files = dbutils.fs.ls(output_path)\n",
    "if files:\n",
    "    print(f\"Files written to {output_path}:\")\n",
    "    for file in files:\n",
    "        print(file.path)\n",
    "else:\n",
    "    print(f\"No files found in {output_path}\")"
   ]
  },
  {
   "cell_type": "code",
   "execution_count": 0,
   "metadata": {
    "application/vnd.databricks.v1+cell": {
     "cellMetadata": {
      "byteLimit": 2048000,
      "rowLimit": 10000
     },
     "inputWidgets": {},
     "nuid": "f7fcbabb-d105-4a92-9734-28d035ce0762",
     "showTitle": false,
     "title": ""
    }
   },
   "outputs": [
    {
     "output_type": "stream",
     "name": "stdout",
     "output_type": "stream",
     "text": [
      "Out[13]: [MountInfo(mountPoint='/databricks-datasets', source='databricks-datasets', encryptionType=''),\n MountInfo(mountPoint='/mnt/waterprojectdl/bronze', source='abfss://bronze@waterprojectdl.dfs.core.windows.net/', encryptionType=''),\n MountInfo(mountPoint='/Volumes', source='UnityCatalogVolumes', encryptionType=''),\n MountInfo(mountPoint='/mnt/waterprojectdl-raw', source='abfss://raw@waterprojectdl.dfs.core.windows.net/', encryptionType=''),\n MountInfo(mountPoint='/databricks/mlflow-tracking', source='databricks/mlflow-tracking', encryptionType=''),\n MountInfo(mountPoint='/databricks-results', source='databricks-results', encryptionType=''),\n MountInfo(mountPoint='/mnt/waterprojectdl/raw', source='abfss://raw@waterprojectdl.dfs.core.windows.net/', encryptionType=''),\n MountInfo(mountPoint='/databricks/mlflow-registry', source='databricks/mlflow-registry', encryptionType=''),\n MountInfo(mountPoint='/mnt/waterprojectdl/processed', source='abfss://processed@waterprojectdl.dfs.core.windows.net/', encryptionType=''),\n MountInfo(mountPoint='/Volume', source='DbfsReserved', encryptionType=''),\n MountInfo(mountPoint='/volumes', source='DbfsReserved', encryptionType=''),\n MountInfo(mountPoint='/', source='DatabricksRoot', encryptionType=''),\n MountInfo(mountPoint='/volume', source='DbfsReserved', encryptionType='')]"
     ]
    }
   ],
   "source": [
    "dbutils.fs.mounts()"
   ]
  },
  {
   "cell_type": "code",
   "execution_count": 0,
   "metadata": {
    "application/vnd.databricks.v1+cell": {
     "cellMetadata": {
      "byteLimit": 2048000,
      "rowLimit": 10000
     },
     "inputWidgets": {},
     "nuid": "1525ce6f-dc66-4d34-830f-8c5c31cc6cf8",
     "showTitle": false,
     "title": ""
    }
   },
   "outputs": [
    {
     "output_type": "display_data",
     "data": {
      "text/html": [
       "<style scoped>\n",
       "  .table-result-container {\n",
       "    max-height: 300px;\n",
       "    overflow: auto;\n",
       "  }\n",
       "  table, th, td {\n",
       "    border: 1px solid black;\n",
       "    border-collapse: collapse;\n",
       "  }\n",
       "  th, td {\n",
       "    padding: 5px;\n",
       "  }\n",
       "  th {\n",
       "    text-align: left;\n",
       "  }\n",
       "</style><div class='table-result-container'><table class='table-result'><thead style='background-color: white'><tr><th>Indicator name</th><th>Geographical area name</th><th>Year</th><th>Value</th><th>Source</th><th>Location</th></tr></thead><tbody><tr><td>Drinking water,Safely managed service</td><td>Morocco</td><td>2000</td><td>41.516566077849</td><td>WHO, UNICEF</td><td>National</td></tr><tr><td>Drinking water,Safely managed service</td><td>Morocco</td><td>2001</td><td>41.955470588583</td><td>WHO, UNICEF</td><td>National</td></tr><tr><td>Drinking water,Safely managed service</td><td>Morocco</td><td>2002</td><td>42.393078989123</td><td>WHO, UNICEF</td><td>National</td></tr><tr><td>Drinking water,Safely managed service</td><td>Morocco</td><td>2003</td><td>42.828273466588</td><td>WHO, UNICEF</td><td>National</td></tr><tr><td>Drinking water,Safely managed service</td><td>Morocco</td><td>2004</td><td>43.261617365472</td><td>WHO, UNICEF</td><td>National</td></tr><tr><td>Drinking water,Safely managed service</td><td>Morocco</td><td>2005</td><td>43.805396222483</td><td>WHO, UNICEF</td><td>National</td></tr><tr><td>Drinking water,Safely managed service</td><td>Morocco</td><td>2006</td><td>44.369282773552</td><td>WHO, UNICEF</td><td>National</td></tr><tr><td>Drinking water,Safely managed service</td><td>Morocco</td><td>2007</td><td>44.929388561225</td><td>WHO, UNICEF</td><td>National</td></tr><tr><td>Drinking water,Safely managed service</td><td>Morocco</td><td>2008</td><td>47.739590836905</td><td>WHO, UNICEF</td><td>National</td></tr><tr><td>Drinking water,Safely managed service</td><td>Morocco</td><td>2009</td><td>50.602361224205</td><td>WHO, UNICEF</td><td>National</td></tr><tr><td>Drinking water,Safely managed service</td><td>Morocco</td><td>2010</td><td>53.517670540543</td><td>WHO, UNICEF</td><td>National</td></tr><tr><td>Drinking water,Safely managed service</td><td>Morocco</td><td>2011</td><td>56.482194628205</td><td>WHO, UNICEF</td><td>National</td></tr><tr><td>Drinking water,Safely managed service</td><td>Morocco</td><td>2012</td><td>59.494821494984</td><td>WHO, UNICEF</td><td>National</td></tr><tr><td>Drinking water,Safely managed service</td><td>Morocco</td><td>2013</td><td>62.553364120718</td><td>WHO, UNICEF</td><td>National</td></tr><tr><td>Drinking water,Safely managed service</td><td>Morocco</td><td>2014</td><td>65.656741096359</td><td>WHO, UNICEF</td><td>National</td></tr><tr><td>Drinking water,Safely managed service</td><td>Morocco</td><td>2015</td><td>68.282912929084</td><td>WHO, UNICEF</td><td>National</td></tr><tr><td>Drinking water,Safely managed service</td><td>Morocco</td><td>2016</td><td>69.901090364033</td><td>WHO, UNICEF</td><td>National</td></tr><tr><td>Drinking water,Safely managed service</td><td>Morocco</td><td>2017</td><td>71.525318695161</td><td>WHO, UNICEF</td><td>National</td></tr><tr><td>Drinking water,Safely managed service</td><td>Morocco</td><td>2018</td><td>73.154123251186</td><td>WHO, UNICEF</td><td>National</td></tr><tr><td>Drinking water,Safely managed service</td><td>Morocco</td><td>2019</td><td>73.584075809309</td><td>WHO, UNICEF</td><td>National</td></tr><tr><td>Drinking water,Safely managed service</td><td>Morocco</td><td>2020</td><td>73.912180206692</td><td>WHO, UNICEF</td><td>National</td></tr><tr><td>Drinking water,Safely managed service</td><td>Morocco</td><td>2021</td><td>74.592712960263</td><td>WHO, UNICEF</td><td>National</td></tr><tr><td>Drinking water,Safely managed service</td><td>Morocco</td><td>2022</td><td>74.82419935286</td><td>WHO, UNICEF</td><td>National</td></tr></tbody></table></div>"
      ]
     },
     "metadata": {
      "application/vnd.databricks.v1+output": {
       "addedWidgets": {},
       "aggData": [],
       "aggError": "",
       "aggOverflow": false,
       "aggSchema": [],
       "aggSeriesLimitReached": false,
       "aggType": "",
       "arguments": {},
       "columnCustomDisplayInfos": {},
       "data": [
        [
         "Drinking water,Safely managed service",
         "Morocco",
         2000,
         41.516566077849,
         "WHO, UNICEF",
         "National"
        ],
        [
         "Drinking water,Safely managed service",
         "Morocco",
         2001,
         41.955470588583,
         "WHO, UNICEF",
         "National"
        ],
        [
         "Drinking water,Safely managed service",
         "Morocco",
         2002,
         42.393078989123,
         "WHO, UNICEF",
         "National"
        ],
        [
         "Drinking water,Safely managed service",
         "Morocco",
         2003,
         42.828273466588,
         "WHO, UNICEF",
         "National"
        ],
        [
         "Drinking water,Safely managed service",
         "Morocco",
         2004,
         43.261617365472,
         "WHO, UNICEF",
         "National"
        ],
        [
         "Drinking water,Safely managed service",
         "Morocco",
         2005,
         43.805396222483,
         "WHO, UNICEF",
         "National"
        ],
        [
         "Drinking water,Safely managed service",
         "Morocco",
         2006,
         44.369282773552,
         "WHO, UNICEF",
         "National"
        ],
        [
         "Drinking water,Safely managed service",
         "Morocco",
         2007,
         44.929388561225,
         "WHO, UNICEF",
         "National"
        ],
        [
         "Drinking water,Safely managed service",
         "Morocco",
         2008,
         47.739590836905,
         "WHO, UNICEF",
         "National"
        ],
        [
         "Drinking water,Safely managed service",
         "Morocco",
         2009,
         50.602361224205,
         "WHO, UNICEF",
         "National"
        ],
        [
         "Drinking water,Safely managed service",
         "Morocco",
         2010,
         53.517670540543,
         "WHO, UNICEF",
         "National"
        ],
        [
         "Drinking water,Safely managed service",
         "Morocco",
         2011,
         56.482194628205,
         "WHO, UNICEF",
         "National"
        ],
        [
         "Drinking water,Safely managed service",
         "Morocco",
         2012,
         59.494821494984,
         "WHO, UNICEF",
         "National"
        ],
        [
         "Drinking water,Safely managed service",
         "Morocco",
         2013,
         62.553364120718,
         "WHO, UNICEF",
         "National"
        ],
        [
         "Drinking water,Safely managed service",
         "Morocco",
         2014,
         65.656741096359,
         "WHO, UNICEF",
         "National"
        ],
        [
         "Drinking water,Safely managed service",
         "Morocco",
         2015,
         68.282912929084,
         "WHO, UNICEF",
         "National"
        ],
        [
         "Drinking water,Safely managed service",
         "Morocco",
         2016,
         69.901090364033,
         "WHO, UNICEF",
         "National"
        ],
        [
         "Drinking water,Safely managed service",
         "Morocco",
         2017,
         71.525318695161,
         "WHO, UNICEF",
         "National"
        ],
        [
         "Drinking water,Safely managed service",
         "Morocco",
         2018,
         73.154123251186,
         "WHO, UNICEF",
         "National"
        ],
        [
         "Drinking water,Safely managed service",
         "Morocco",
         2019,
         73.584075809309,
         "WHO, UNICEF",
         "National"
        ],
        [
         "Drinking water,Safely managed service",
         "Morocco",
         2020,
         73.912180206692,
         "WHO, UNICEF",
         "National"
        ],
        [
         "Drinking water,Safely managed service",
         "Morocco",
         2021,
         74.592712960263,
         "WHO, UNICEF",
         "National"
        ],
        [
         "Drinking water,Safely managed service",
         "Morocco",
         2022,
         74.82419935286,
         "WHO, UNICEF",
         "National"
        ]
       ],
       "datasetInfos": [],
       "dbfsResultPath": null,
       "isJsonSchema": true,
       "metadata": {},
       "overflow": false,
       "plotOptions": {
        "customPlotOptions": {},
        "displayType": "table",
        "pivotAggregation": null,
        "pivotColumns": null,
        "xColumns": null,
        "yColumns": null
       },
       "removedWidgets": [],
       "schema": [
        {
         "metadata": "{}",
         "name": "Indicator name",
         "type": "\"string\""
        },
        {
         "metadata": "{}",
         "name": "Geographical area name",
         "type": "\"string\""
        },
        {
         "metadata": "{}",
         "name": "Year",
         "type": "\"integer\""
        },
        {
         "metadata": "{}",
         "name": "Value",
         "type": "\"double\""
        },
        {
         "metadata": "{}",
         "name": "Source",
         "type": "\"string\""
        },
        {
         "metadata": "{}",
         "name": "Location",
         "type": "\"string\""
        }
       ],
       "type": "table"
      }
     },
     "output_type": "display_data"
    }
   ],
   "source": [
    "df = spark.read.parquet(\"/mnt/waterprojectdl/processed/overall\")\n",
    "display(df)"
   ]
  }
 ],
 "metadata": {
  "application/vnd.databricks.v1+notebook": {
   "dashboards": [],
   "environmentMetadata": null,
   "language": "python",
   "notebookMetadata": {
    "mostRecentlyExecutedCommandWithImplicitDF": {
     "commandId": 673830781092018,
     "dataframes": [
      "_sqldf"
     ]
    },
    "pythonIndentUnit": 4
   },
   "notebookName": "Ingest_population_water_safelly",
   "widgets": {}
  }
 },
 "nbformat": 4,
 "nbformat_minor": 0
}
